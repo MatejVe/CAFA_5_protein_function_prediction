{
 "cells": [
  {
   "cell_type": "code",
   "execution_count": 37,
   "metadata": {},
   "outputs": [],
   "source": [
    "import pandas as pd\n",
    "from pathlib import Path\n",
    "import numpy as np\n",
    "import matplotlib.pyplot as plt\n",
    "import seaborn as sns\n",
    "import pyarrow.feather as feather\n",
    "import matplotlib\n",
    "\n",
    "matplotlib.style.use('ggplot')"
   ]
  },
  {
   "cell_type": "markdown",
   "metadata": {},
   "source": [
    "### Load in the raw protein sequences"
   ]
  },
  {
   "cell_type": "code",
   "execution_count": 38,
   "metadata": {},
   "outputs": [
    {
     "data": {
      "text/html": [
       "<div>\n",
       "<style scoped>\n",
       "    .dataframe tbody tr th:only-of-type {\n",
       "        vertical-align: middle;\n",
       "    }\n",
       "\n",
       "    .dataframe tbody tr th {\n",
       "        vertical-align: top;\n",
       "    }\n",
       "\n",
       "    .dataframe thead th {\n",
       "        text-align: right;\n",
       "    }\n",
       "</style>\n",
       "<table border=\"1\" class=\"dataframe\">\n",
       "  <thead>\n",
       "    <tr style=\"text-align: right;\">\n",
       "      <th></th>\n",
       "      <th>sequence</th>\n",
       "    </tr>\n",
       "  </thead>\n",
       "  <tbody>\n",
       "    <tr>\n",
       "      <th>P20536</th>\n",
       "      <td>MNSVTVSHAPYTITYHDDWEPVMSQLVEFYNEVASWLLRDETSPIP...</td>\n",
       "    </tr>\n",
       "    <tr>\n",
       "      <th>O73864</th>\n",
       "      <td>MTEYRNFLLLFITSLSVIYPCTGISWLGLTINGSSVGWNQTHHCKL...</td>\n",
       "    </tr>\n",
       "    <tr>\n",
       "      <th>O95231</th>\n",
       "      <td>MRLSSSPPRGPQQLSSFGSVDWLSQSSCSGPTHTPRPADFSLGSLP...</td>\n",
       "    </tr>\n",
       "    <tr>\n",
       "      <th>A0A0B4J1F4</th>\n",
       "      <td>MGGEAGADGPRGRVKSLGLVFEDESKGCYSSGETVAGHVLLEAAEP...</td>\n",
       "    </tr>\n",
       "    <tr>\n",
       "      <th>P54366</th>\n",
       "      <td>MVETNSPPAGYTLKRSPSDLGEQQQPPRQISRSPGNTAAYHLTTAM...</td>\n",
       "    </tr>\n",
       "  </tbody>\n",
       "</table>\n",
       "</div>"
      ],
      "text/plain": [
       "                                                     sequence\n",
       "P20536      MNSVTVSHAPYTITYHDDWEPVMSQLVEFYNEVASWLLRDETSPIP...\n",
       "O73864      MTEYRNFLLLFITSLSVIYPCTGISWLGLTINGSSVGWNQTHHCKL...\n",
       "O95231      MRLSSSPPRGPQQLSSFGSVDWLSQSSCSGPTHTPRPADFSLGSLP...\n",
       "A0A0B4J1F4  MGGEAGADGPRGRVKSLGLVFEDESKGCYSSGETVAGHVLLEAAEP...\n",
       "P54366      MVETNSPPAGYTLKRSPSDLGEQQQPPRQISRSPGNTAAYHLTTAM..."
      ]
     },
     "execution_count": 38,
     "metadata": {},
     "output_type": "execute_result"
    }
   ],
   "source": [
    "protein_sequences = feather.read_feather('train-ready_data/protein_sequences.feather')\n",
    "protein_sequences.head()"
   ]
  },
  {
   "cell_type": "code",
   "execution_count": 39,
   "metadata": {},
   "outputs": [],
   "source": [
    "proteins_featurized = protein_sequences.copy()"
   ]
  },
  {
   "cell_type": "markdown",
   "metadata": {},
   "source": [
    "### Bag of words model\n",
    "\n",
    "Inspired by the Natural Language Processing paradigms, let's create an adapted version of the bag of words model. Instead of words, we have aminoacids. We will count the number of times each aminoacid appears in the sequence and create a vector with the counts. "
   ]
  },
  {
   "cell_type": "code",
   "execution_count": 40,
   "metadata": {},
   "outputs": [
    {
     "name": "stdout",
     "output_type": "stream",
     "text": [
      "Processing Z...\r"
     ]
    }
   ],
   "source": [
    "# Get a set of all unique letters in the protein sequences\n",
    "train_alphabet = [set(sequence) for sequence in protein_sequences['sequence']]\n",
    "train_alphabet = list(set.union(*train_alphabet))\n",
    "train_alphabet.sort()\n",
    "\n",
    "# Loop over every letter and count the number of times it appears in each sequence\n",
    "for letter in train_alphabet:\n",
    "    print(f'Processing {letter}...', end='\\r')\n",
    "    proteins_featurized[letter] = protein_sequences['sequence'].str.count(letter)\n",
    "    \n",
    "# Add the number of unique letters as a feature\n",
    "proteins_featurized['unique_letters'] = protein_sequences['sequence'].apply(lambda x: len(set(x)))"
   ]
  },
  {
   "cell_type": "markdown",
   "metadata": {},
   "source": [
    "### Length and compression features\n",
    "\n",
    "We will also add the length of the sequence and the compression ratio of the sequence. The compression ratio is defined as the ratio between the length of the sequence and the length of the compressed sequence. The compression is done using the Lempel-Ziv-Welch algorithm."
   ]
  },
  {
   "cell_type": "code",
   "execution_count": 41,
   "metadata": {},
   "outputs": [],
   "source": [
    "# Add the length of the sequence as a feature\n",
    "proteins_featurized['sequence_length'] = protein_sequences['sequence'].str.len()\n",
    "\n",
    "# Add the compressed sequence length as a feature\n",
    "import zlib\n",
    "proteins_featurized['compressed_sequence_length'] = protein_sequences['sequence'].apply(lambda x: len(zlib.compress(x.encode('utf-8'))))\n",
    "\n",
    "# Add the compression ratio as a feature\n",
    "proteins_featurized['compression_ratio'] = proteins_featurized['compressed_sequence_length'] / proteins_featurized['sequence_length']"
   ]
  },
  {
   "cell_type": "markdown",
   "metadata": {},
   "source": [
    "### Save the post-processed data\n",
    "\n",
    "My hope is that the data we save here is the final version of the train data we are to use. Essentially, labels_df is a pure y vector of labels and train_sequences is a pure X vector of features."
   ]
  },
  {
   "cell_type": "code",
   "execution_count": 42,
   "metadata": {},
   "outputs": [],
   "source": [
    "proteins_featurized = proteins_featurized.drop('sequence', axis=1)\n",
    "\n",
    "feather.write_feather(proteins_featurized, 'train-ready_data/proteins_featurized.feather')"
   ]
  },
  {
   "cell_type": "code",
   "execution_count": null,
   "metadata": {},
   "outputs": [],
   "source": []
  }
 ],
 "metadata": {
  "kernelspec": {
   "display_name": "CAFA_5_protein_function_prediction-GgHxkLcz",
   "language": "python",
   "name": "python3"
  },
  "language_info": {
   "codemirror_mode": {
    "name": "ipython",
    "version": 3
   },
   "file_extension": ".py",
   "mimetype": "text/x-python",
   "name": "python",
   "nbconvert_exporter": "python",
   "pygments_lexer": "ipython3",
   "version": "3.11.1"
  },
  "orig_nbformat": 4
 },
 "nbformat": 4,
 "nbformat_minor": 2
}
