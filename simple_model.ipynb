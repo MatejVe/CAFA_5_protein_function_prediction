{
 "cells": [
  {
   "cell_type": "code",
   "execution_count": 2,
   "metadata": {},
   "outputs": [],
   "source": [
    "import pandas as pd\n",
    "from pathlib import Path\n",
    "import numpy as np\n",
    "import matplotlib.pyplot as plt\n",
    "import seaborn as sns\n",
    "import matplotlib\n",
    "\n",
    "matplotlib.style.use('ggplot')\n",
    "\n",
    "path = Path(\"raw_data\")"
   ]
  },
  {
   "cell_type": "markdown",
   "metadata": {},
   "source": [
    "## Train sequences"
   ]
  },
  {
   "cell_type": "code",
   "execution_count": 3,
   "metadata": {},
   "outputs": [
    {
     "name": "stdout",
     "output_type": "stream",
     "text": [
      "142246 ids loaded.\n"
     ]
    }
   ],
   "source": [
    "def load_sequences(fasta_file):\n",
    "    sequences = {}\n",
    "    current_id = None\n",
    "    with open(fasta_file, 'rt') as file:\n",
    "        for line in file:\n",
    "            line = line.strip()\n",
    "            if line.startswith('>'):\n",
    "                # Extract the protein identifier from the line\n",
    "                identifier = line[1:].split()[0]\n",
    "                current_id = identifier\n",
    "                sequences[current_id] = ''\n",
    "            else:\n",
    "                sequences[current_id] += line\n",
    "\n",
    "    # Print number of protein sequences\n",
    "    print(str(len(sequences)) + ' ids loaded.')\n",
    "    return sequences\n",
    "\n",
    "\n",
    "train_file = path/\"Train/train_sequences.fasta\"\n",
    "train_sequences = load_sequences(train_file)"
   ]
  },
  {
   "cell_type": "code",
   "execution_count": 4,
   "metadata": {},
   "outputs": [
    {
     "data": {
      "text/html": [
       "<div>\n",
       "<style scoped>\n",
       "    .dataframe tbody tr th:only-of-type {\n",
       "        vertical-align: middle;\n",
       "    }\n",
       "\n",
       "    .dataframe tbody tr th {\n",
       "        vertical-align: top;\n",
       "    }\n",
       "\n",
       "    .dataframe thead th {\n",
       "        text-align: right;\n",
       "    }\n",
       "</style>\n",
       "<table border=\"1\" class=\"dataframe\">\n",
       "  <thead>\n",
       "    <tr style=\"text-align: right;\">\n",
       "      <th></th>\n",
       "      <th>sequence</th>\n",
       "    </tr>\n",
       "  </thead>\n",
       "  <tbody>\n",
       "    <tr>\n",
       "      <th>P20536</th>\n",
       "      <td>MNSVTVSHAPYTITYHDDWEPVMSQLVEFYNEVASWLLRDETSPIP...</td>\n",
       "    </tr>\n",
       "    <tr>\n",
       "      <th>O73864</th>\n",
       "      <td>MTEYRNFLLLFITSLSVIYPCTGISWLGLTINGSSVGWNQTHHCKL...</td>\n",
       "    </tr>\n",
       "    <tr>\n",
       "      <th>O95231</th>\n",
       "      <td>MRLSSSPPRGPQQLSSFGSVDWLSQSSCSGPTHTPRPADFSLGSLP...</td>\n",
       "    </tr>\n",
       "    <tr>\n",
       "      <th>A0A0B4J1F4</th>\n",
       "      <td>MGGEAGADGPRGRVKSLGLVFEDESKGCYSSGETVAGHVLLEAAEP...</td>\n",
       "    </tr>\n",
       "    <tr>\n",
       "      <th>P54366</th>\n",
       "      <td>MVETNSPPAGYTLKRSPSDLGEQQQPPRQISRSPGNTAAYHLTTAM...</td>\n",
       "    </tr>\n",
       "  </tbody>\n",
       "</table>\n",
       "</div>"
      ],
      "text/plain": [
       "                                                     sequence\n",
       "P20536      MNSVTVSHAPYTITYHDDWEPVMSQLVEFYNEVASWLLRDETSPIP...\n",
       "O73864      MTEYRNFLLLFITSLSVIYPCTGISWLGLTINGSSVGWNQTHHCKL...\n",
       "O95231      MRLSSSPPRGPQQLSSFGSVDWLSQSSCSGPTHTPRPADFSLGSLP...\n",
       "A0A0B4J1F4  MGGEAGADGPRGRVKSLGLVFEDESKGCYSSGETVAGHVLLEAAEP...\n",
       "P54366      MVETNSPPAGYTLKRSPSDLGEQQQPPRQISRSPGNTAAYHLTTAM..."
      ]
     },
     "execution_count": 4,
     "metadata": {},
     "output_type": "execute_result"
    }
   ],
   "source": [
    "train_sequences_df = pd.DataFrame.from_dict(train_sequences, orient='index', columns=['sequence'])\n",
    "train_sequences_df.head()"
   ]
  },
  {
   "cell_type": "markdown",
   "metadata": {},
   "source": [
    "## Labels"
   ]
  },
  {
   "cell_type": "code",
   "execution_count": 5,
   "metadata": {},
   "outputs": [
    {
     "data": {
      "text/html": [
       "<div>\n",
       "<style scoped>\n",
       "    .dataframe tbody tr th:only-of-type {\n",
       "        vertical-align: middle;\n",
       "    }\n",
       "\n",
       "    .dataframe tbody tr th {\n",
       "        vertical-align: top;\n",
       "    }\n",
       "\n",
       "    .dataframe thead th {\n",
       "        text-align: right;\n",
       "    }\n",
       "</style>\n",
       "<table border=\"1\" class=\"dataframe\">\n",
       "  <thead>\n",
       "    <tr style=\"text-align: right;\">\n",
       "      <th></th>\n",
       "      <th>EntryID</th>\n",
       "      <th>term</th>\n",
       "      <th>aspect</th>\n",
       "    </tr>\n",
       "  </thead>\n",
       "  <tbody>\n",
       "    <tr>\n",
       "      <th>0</th>\n",
       "      <td>A0A009IHW8</td>\n",
       "      <td>GO:0008152</td>\n",
       "      <td>BPO</td>\n",
       "    </tr>\n",
       "    <tr>\n",
       "      <th>1</th>\n",
       "      <td>A0A009IHW8</td>\n",
       "      <td>GO:0034655</td>\n",
       "      <td>BPO</td>\n",
       "    </tr>\n",
       "    <tr>\n",
       "      <th>2</th>\n",
       "      <td>A0A009IHW8</td>\n",
       "      <td>GO:0072523</td>\n",
       "      <td>BPO</td>\n",
       "    </tr>\n",
       "    <tr>\n",
       "      <th>3</th>\n",
       "      <td>A0A009IHW8</td>\n",
       "      <td>GO:0044270</td>\n",
       "      <td>BPO</td>\n",
       "    </tr>\n",
       "    <tr>\n",
       "      <th>4</th>\n",
       "      <td>A0A009IHW8</td>\n",
       "      <td>GO:0006753</td>\n",
       "      <td>BPO</td>\n",
       "    </tr>\n",
       "  </tbody>\n",
       "</table>\n",
       "</div>"
      ],
      "text/plain": [
       "      EntryID        term aspect\n",
       "0  A0A009IHW8  GO:0008152    BPO\n",
       "1  A0A009IHW8  GO:0034655    BPO\n",
       "2  A0A009IHW8  GO:0072523    BPO\n",
       "3  A0A009IHW8  GO:0044270    BPO\n",
       "4  A0A009IHW8  GO:0006753    BPO"
      ]
     },
     "execution_count": 5,
     "metadata": {},
     "output_type": "execute_result"
    }
   ],
   "source": [
    "train_labels = pd.read_csv(path/'Train/train_terms.tsv', sep='\\t')\n",
    "train_labels.head()"
   ]
  },
  {
   "cell_type": "markdown",
   "metadata": {},
   "source": [
    "Let's take a random EntryID and check if it is in train_sequences. Let's take A0A009IHW8 for example."
   ]
  },
  {
   "cell_type": "code",
   "execution_count": 6,
   "metadata": {},
   "outputs": [
    {
     "name": "stdout",
     "output_type": "stream",
     "text": [
      "A0A009IHW8 is in the training set. The sequence is:\n",
      "MSLEQKKGADIISKILQIQNSIGKTTSPSTLKTKLSEISRKEQENARIQSKLSDLQKKKIDIDNKLLKEKQNLIKEEILERKKLEVLTKKQQKDEIEHQKKLKREIDAIKASTQYITDVSISSYNNTIPETEPEYDLFISHASEDKEDFVRPLAETLQQLGVNVWYDEFTLKVGDSLRQKIDSGLRNSKYGTVVLSTDFIKKDWTNYELDGLVAREMNGHKMILPIWHKITKNDVLDYSPNLADKVALNTSVNSIEEIAHQLADVILNR\n",
      "The corresponding GO terms are:\n",
      "['GO:0008152' 'GO:0034655' 'GO:0072523' 'GO:0044270' 'GO:0006753'\n",
      " 'GO:1901292' 'GO:0044237' 'GO:1901360' 'GO:0008150' 'GO:1901564'\n",
      " 'GO:1901565' 'GO:0009117' 'GO:0006139' 'GO:0044281' 'GO:0046496'\n",
      " 'GO:0019362' 'GO:0046483' 'GO:0055086' 'GO:0044248' 'GO:0019439'\n",
      " 'GO:0019637' 'GO:0006807' 'GO:0019677' 'GO:1901361' 'GO:0006163'\n",
      " 'GO:0046700' 'GO:0009987' 'GO:0006725' 'GO:0006796' 'GO:0034641'\n",
      " 'GO:0072521' 'GO:0071704' 'GO:0019364' 'GO:1901575' 'GO:0072526'\n",
      " 'GO:0046434' 'GO:0009166' 'GO:0072524' 'GO:0006195' 'GO:0009056'\n",
      " 'GO:0044238' 'GO:0006793' 'GO:0019674' 'GO:0003674' 'GO:0003953'\n",
      " 'GO:0016787' 'GO:0016799' 'GO:0016798' 'GO:0003824']\n",
      "There are 49 GO terms associated with A0A009IHW8.\n"
     ]
    }
   ],
   "source": [
    "entry_ID = \"A0A009IHW8\"\n",
    "\n",
    "if entry_ID in train_sequences_df.index:\n",
    "    print(f\"{entry_ID} is in the training set. The sequence is:\")\n",
    "    print(train_sequences_df.loc[entry_ID]['sequence'])\n",
    "    print(\"The corresponding GO terms are:\")\n",
    "    print(train_labels[train_labels['EntryID'] == entry_ID]['term'].values)\n",
    "    print(f\"There are {len(train_labels[train_labels['EntryID'] == entry_ID])} GO terms associated with {entry_ID}.\")"
   ]
  },
  {
   "cell_type": "code",
   "execution_count": 7,
   "metadata": {},
   "outputs": [
    {
     "name": "stdout",
     "output_type": "stream",
     "text": [
      "Total number of unique GO terms is 31466.\n",
      "Number of unique GO terms in the BPO aspect is 21285.\n",
      "Number of unique GO terms in the CCO aspect is 2957.\n",
      "Number of unique GO terms in the MFO aspect is 7224.\n"
     ]
    }
   ],
   "source": [
    "# Find the total number of unique GO terms in the training set\n",
    "print(f\"Total number of unique GO terms is {len(train_labels['term'].unique())}.\")\n",
    "\n",
    "# Find the number of unique GO terms by aspect\n",
    "aspects = train_labels['aspect'].unique()\n",
    "for aspect in aspects:\n",
    "    print(f\"Number of unique GO terms in the {aspect} aspect is {len(train_labels[train_labels['aspect'] == aspect]['term'].unique())}.\")"
   ]
  },
  {
   "cell_type": "markdown",
   "metadata": {},
   "source": [
    "For completion, this is what the abbreviation of the labels mean:\n",
    "- BPO: Biological Process Ontology\n",
    "- CCO: Cellular Component Ontology\n",
    "- MFO: Molecular Function Ontology"
   ]
  },
  {
   "cell_type": "markdown",
   "metadata": {},
   "source": [
    "### GO terms label selection\n",
    "\n",
    "We will select the GO terms that we will use to train a model. This is necessary because we are limited to a total number of 1500 GO terms by the rules of the competition. We will start with a simple selection procedure that selects the top 500 most frequent GO terms in each of the three ontologies. We will then try to improve this selection by using a more sophisticated method later."
   ]
  },
  {
   "cell_type": "code",
   "execution_count": 8,
   "metadata": {},
   "outputs": [
    {
     "data": {
      "text/plain": [
       "\"\\ndef assign_labels(annotations, selected_terms=selected_terms):\\n    \\n    intersection = selected_terms.intersection(annotations)\\n    labels = np.isin(np.array(list(selected_terms)), np.array(list(intersection))) #+ random.rand(1)*0.000001 - random.rand(1)*0.000001 \\n    \\n    return list(labels.astype('int'))\\n\\nannotations = train_terms.groupby('EntryID')['term'].apply(set)\\nlabels = annotations.progress_apply(assign_labels)\\n\\nlabels.head()\\n\""
      ]
     },
     "execution_count": 8,
     "metadata": {},
     "output_type": "execute_result"
    }
   ],
   "source": [
    "# This is how some other guy on kaggle did it\n",
    "\"\"\"\n",
    "V = {}\n",
    "V['BPO'] = 1100\n",
    "V['CCO'] = 300\n",
    "V['MFO'] = 450\n",
    "\n",
    "selected_terms = []\n",
    "for aspect in ['BPO', 'CCO', 'MFO']:\n",
    "    selection = terms.loc[(terms.aspect == aspect)]\n",
    "    selection = selection.nlargest(V[aspect], columns='frequency', keep='first')\n",
    "    selected_terms += selection.term.to_list()\n",
    "selected_terms = set(selected_terms)\n",
    "\"\"\"\n",
    "# Good idea is to balance out the GO terms by aspect\n",
    "# Then he assigned a vector to each GO term:\n",
    "\"\"\"\n",
    "def assign_labels(annotations, selected_terms=selected_terms):\n",
    "    \n",
    "    intersection = selected_terms.intersection(annotations)\n",
    "    labels = np.isin(np.array(list(selected_terms)), np.array(list(intersection))) #+ random.rand(1)*0.000001 - random.rand(1)*0.000001 \n",
    "    \n",
    "    return list(labels.astype('int'))\n",
    "\n",
    "annotations = train_terms.groupby('EntryID')['term'].apply(set)\n",
    "labels = annotations.progress_apply(assign_labels)\n",
    "\n",
    "labels.head()\n",
    "\"\"\""
   ]
  },
  {
   "cell_type": "code",
   "execution_count": 9,
   "metadata": {},
   "outputs": [
    {
     "data": {
      "image/png": "[encoded data removed]",
      "text/plain": [
       "<Figure size 1000x600 with 1 Axes>"
      ]
     },
     "metadata": {},
     "output_type": "display_data"
    }
   ],
   "source": [
    "# Group the GO terms by aspect and then by GO term\n",
    "grouped_terms = train_labels.groupby(['aspect', 'term']).count()\n",
    "# Sort the grouped terms by the number of proteins associated with each GO term, in descending order,\n",
    "# group within each aspect\n",
    "grouped_terms = grouped_terms.sort_values(by='EntryID', ascending=False)\n",
    "bpo_500 = grouped_terms.loc[grouped_terms.index.get_level_values('aspect') == 'BPO', \"EntryID\"][:500].index.get_level_values('term').values\n",
    "cco_500 = grouped_terms.loc[grouped_terms.index.get_level_values('aspect') == 'CCO', \"EntryID\"][:500].index.get_level_values('term').values\n",
    "mfo_500 = grouped_terms.loc[grouped_terms.index.get_level_values('aspect') == 'MFO', \"EntryID\"][:500].index.get_level_values('term').values\n",
    "\n",
    "selected_terms = set(np.concatenate([bpo_500, cco_500, mfo_500]))\n",
    "selected_terms = list(selected_terms)\n",
    "num_of_labels = len(selected_terms)\n",
    "\n",
    "# Plot the number of proteins associated with each GO term, grouped by aspect\n",
    "grouped_terms = grouped_terms.reset_index()\n",
    "fig, ax = plt.subplots(figsize=(10, 6))\n",
    "\n",
    "n_top_terms = 10\n",
    "for aspect in aspects:\n",
    "    aspect_df = grouped_terms[grouped_terms['aspect'] == aspect]\n",
    "    ax.plot(np.arange(n_top_terms), aspect_df['EntryID'][:n_top_terms], label=aspect, marker='o')\n",
    "ax.set_xlabel('Most common GO terms')\n",
    "ax.set_ylabel('Number of proteins associated with GO term')\n",
    "ax.legend()\n",
    "plt.show()"
   ]
  },
  {
   "cell_type": "markdown",
   "metadata": {},
   "source": [
    "Let's create a vector for each protein in the train set. We have a 1500 classes classification problem so for each protein we will have a 1500 long vector with 1s and 0s. 1s will be in the positions of the GO terms that the protein has and 0s in the positions of the GO terms that the protein doesn't have."
   ]
  },
  {
   "cell_type": "code",
   "execution_count": 10,
   "metadata": {},
   "outputs": [
    {
     "name": "stdout",
     "output_type": "stream",
     "text": [
      "Processing label 1500 of 1500\n",
      "(142246, 1500)\n"
     ]
    }
   ],
   "source": [
    "# Most of the following code is adapted from\n",
    "# https://www.kaggle.com/code/gusthema/cafa-5-protein-function-with-tensorflow\n",
    "\n",
    "# Create an empty dataframe of required size for storing the labels,\n",
    "# i.e, train_size x num_of_labels (142246 x 1500)\n",
    "train_labels_updated = train_labels.loc[train_labels['term'].isin(selected_terms)]\n",
    "series_train_protein_ids = pd.Series(train_sequences_df.index)\n",
    "\n",
    "train_size = train_sequences_df.shape[0] # len(X)\n",
    "train_vector_labels = np.zeros((train_size, num_of_labels))\n",
    "\n",
    "for i in range(num_of_labels):\n",
    "    print(f\"Processing label {i+1} of {num_of_labels}\", end='\\r')\n",
    "    # For each label, fetch the corresponding train_labels data\n",
    "    n_train_terms = train_labels_updated[train_labels_updated['term'] == selected_terms[i]]\n",
    "    \n",
    "    # Fetch all the unique EntryIDs for the current label\n",
    "    label_related_proteins = n_train_terms['EntryID'].unique()\n",
    "    \n",
    "    # In the series_train_protein_ids pandas series, if a protein is related\n",
    "    # to the current label, then mark it as 1, else 0\n",
    "    train_vector_labels[:, i] = series_train_protein_ids.isin(label_related_proteins).astype(int)\n",
    "\n",
    "print(\"\") # Get to the next line\n",
    "labels_df = pd.DataFrame(train_vector_labels, columns=selected_terms, index=train_sequences_df.index)\n",
    "print(labels_df.shape)"
   ]
  },
  {
   "cell_type": "code",
   "execution_count": 11,
   "metadata": {},
   "outputs": [
    {
     "data": {
      "text/html": [
       "<div>\n",
       "<style scoped>\n",
       "    .dataframe tbody tr th:only-of-type {\n",
       "        vertical-align: middle;\n",
       "    }\n",
       "\n",
       "    .dataframe tbody tr th {\n",
       "        vertical-align: top;\n",
       "    }\n",
       "\n",
       "    .dataframe thead th {\n",
       "        text-align: right;\n",
       "    }\n",
       "</style>\n",
       "<table border=\"1\" class=\"dataframe\">\n",
       "  <thead>\n",
       "    <tr style=\"text-align: right;\">\n",
       "      <th></th>\n",
       "      <th>GO:0065009</th>\n",
       "      <th>GO:0008201</th>\n",
       "      <th>GO:0005125</th>\n",
       "      <th>GO:0015605</th>\n",
       "      <th>GO:0045595</th>\n",
       "      <th>GO:0016667</th>\n",
       "      <th>GO:0060590</th>\n",
       "      <th>GO:0045182</th>\n",
       "      <th>GO:0104004</th>\n",
       "      <th>GO:0016787</th>\n",
       "      <th>...</th>\n",
       "      <th>GO:0003714</th>\n",
       "      <th>GO:0044282</th>\n",
       "      <th>GO:0016877</th>\n",
       "      <th>GO:0000226</th>\n",
       "      <th>GO:0048584</th>\n",
       "      <th>GO:0030426</th>\n",
       "      <th>GO:0042579</th>\n",
       "      <th>GO:0140101</th>\n",
       "      <th>GO:0042887</th>\n",
       "      <th>GO:0072349</th>\n",
       "    </tr>\n",
       "  </thead>\n",
       "  <tbody>\n",
       "    <tr>\n",
       "      <th>P20536</th>\n",
       "      <td>0.0</td>\n",
       "      <td>0.0</td>\n",
       "      <td>0.0</td>\n",
       "      <td>0.0</td>\n",
       "      <td>0.0</td>\n",
       "      <td>0.0</td>\n",
       "      <td>0.0</td>\n",
       "      <td>0.0</td>\n",
       "      <td>0.0</td>\n",
       "      <td>0.0</td>\n",
       "      <td>...</td>\n",
       "      <td>0.0</td>\n",
       "      <td>0.0</td>\n",
       "      <td>0.0</td>\n",
       "      <td>0.0</td>\n",
       "      <td>0.0</td>\n",
       "      <td>0.0</td>\n",
       "      <td>0.0</td>\n",
       "      <td>0.0</td>\n",
       "      <td>0.0</td>\n",
       "      <td>0.0</td>\n",
       "    </tr>\n",
       "    <tr>\n",
       "      <th>O73864</th>\n",
       "      <td>1.0</td>\n",
       "      <td>0.0</td>\n",
       "      <td>0.0</td>\n",
       "      <td>0.0</td>\n",
       "      <td>0.0</td>\n",
       "      <td>0.0</td>\n",
       "      <td>0.0</td>\n",
       "      <td>0.0</td>\n",
       "      <td>0.0</td>\n",
       "      <td>0.0</td>\n",
       "      <td>...</td>\n",
       "      <td>0.0</td>\n",
       "      <td>0.0</td>\n",
       "      <td>0.0</td>\n",
       "      <td>1.0</td>\n",
       "      <td>0.0</td>\n",
       "      <td>0.0</td>\n",
       "      <td>0.0</td>\n",
       "      <td>0.0</td>\n",
       "      <td>0.0</td>\n",
       "      <td>0.0</td>\n",
       "    </tr>\n",
       "    <tr>\n",
       "      <th>O95231</th>\n",
       "      <td>0.0</td>\n",
       "      <td>0.0</td>\n",
       "      <td>0.0</td>\n",
       "      <td>0.0</td>\n",
       "      <td>0.0</td>\n",
       "      <td>0.0</td>\n",
       "      <td>0.0</td>\n",
       "      <td>0.0</td>\n",
       "      <td>0.0</td>\n",
       "      <td>0.0</td>\n",
       "      <td>...</td>\n",
       "      <td>0.0</td>\n",
       "      <td>0.0</td>\n",
       "      <td>0.0</td>\n",
       "      <td>0.0</td>\n",
       "      <td>0.0</td>\n",
       "      <td>0.0</td>\n",
       "      <td>0.0</td>\n",
       "      <td>0.0</td>\n",
       "      <td>0.0</td>\n",
       "      <td>0.0</td>\n",
       "    </tr>\n",
       "    <tr>\n",
       "      <th>A0A0B4J1F4</th>\n",
       "      <td>0.0</td>\n",
       "      <td>0.0</td>\n",
       "      <td>0.0</td>\n",
       "      <td>0.0</td>\n",
       "      <td>0.0</td>\n",
       "      <td>0.0</td>\n",
       "      <td>0.0</td>\n",
       "      <td>0.0</td>\n",
       "      <td>0.0</td>\n",
       "      <td>0.0</td>\n",
       "      <td>...</td>\n",
       "      <td>0.0</td>\n",
       "      <td>0.0</td>\n",
       "      <td>0.0</td>\n",
       "      <td>0.0</td>\n",
       "      <td>0.0</td>\n",
       "      <td>0.0</td>\n",
       "      <td>0.0</td>\n",
       "      <td>0.0</td>\n",
       "      <td>0.0</td>\n",
       "      <td>0.0</td>\n",
       "    </tr>\n",
       "    <tr>\n",
       "      <th>P54366</th>\n",
       "      <td>0.0</td>\n",
       "      <td>0.0</td>\n",
       "      <td>0.0</td>\n",
       "      <td>0.0</td>\n",
       "      <td>0.0</td>\n",
       "      <td>0.0</td>\n",
       "      <td>0.0</td>\n",
       "      <td>0.0</td>\n",
       "      <td>0.0</td>\n",
       "      <td>0.0</td>\n",
       "      <td>...</td>\n",
       "      <td>0.0</td>\n",
       "      <td>0.0</td>\n",
       "      <td>0.0</td>\n",
       "      <td>0.0</td>\n",
       "      <td>0.0</td>\n",
       "      <td>0.0</td>\n",
       "      <td>0.0</td>\n",
       "      <td>0.0</td>\n",
       "      <td>0.0</td>\n",
       "      <td>0.0</td>\n",
       "    </tr>\n",
       "  </tbody>\n",
       "</table>\n",
       "<p>5 rows × 1500 columns</p>\n",
       "</div>"
      ],
      "text/plain": [
       "            GO:0065009  GO:0008201  GO:0005125  GO:0015605  GO:0045595  \\\n",
       "P20536             0.0         0.0         0.0         0.0         0.0   \n",
       "O73864             1.0         0.0         0.0         0.0         0.0   \n",
       "O95231             0.0         0.0         0.0         0.0         0.0   \n",
       "A0A0B4J1F4         0.0         0.0         0.0         0.0         0.0   \n",
       "P54366             0.0         0.0         0.0         0.0         0.0   \n",
       "\n",
       "            GO:0016667  GO:0060590  GO:0045182  GO:0104004  GO:0016787  ...  \\\n",
       "P20536             0.0         0.0         0.0         0.0         0.0  ...   \n",
       "O73864             0.0         0.0         0.0         0.0         0.0  ...   \n",
       "O95231             0.0         0.0         0.0         0.0         0.0  ...   \n",
       "A0A0B4J1F4         0.0         0.0         0.0         0.0         0.0  ...   \n",
       "P54366             0.0         0.0         0.0         0.0         0.0  ...   \n",
       "\n",
       "            GO:0003714  GO:0044282  GO:0016877  GO:0000226  GO:0048584  \\\n",
       "P20536             0.0         0.0         0.0         0.0         0.0   \n",
       "O73864             0.0         0.0         0.0         1.0         0.0   \n",
       "O95231             0.0         0.0         0.0         0.0         0.0   \n",
       "A0A0B4J1F4         0.0         0.0         0.0         0.0         0.0   \n",
       "P54366             0.0         0.0         0.0         0.0         0.0   \n",
       "\n",
       "            GO:0030426  GO:0042579  GO:0140101  GO:0042887  GO:0072349  \n",
       "P20536             0.0         0.0         0.0         0.0         0.0  \n",
       "O73864             0.0         0.0         0.0         0.0         0.0  \n",
       "O95231             0.0         0.0         0.0         0.0         0.0  \n",
       "A0A0B4J1F4         0.0         0.0         0.0         0.0         0.0  \n",
       "P54366             0.0         0.0         0.0         0.0         0.0  \n",
       "\n",
       "[5 rows x 1500 columns]"
      ]
     },
     "execution_count": 11,
     "metadata": {},
     "output_type": "execute_result"
    }
   ],
   "source": [
    "labels_df.head()"
   ]
  },
  {
   "cell_type": "code",
   "execution_count": 12,
   "metadata": {},
   "outputs": [
    {
     "data": {
      "image/png": "[encoded data removed]",
      "text/plain": [
       "<Figure size 640x480 with 1 Axes>"
      ]
     },
     "metadata": {},
     "output_type": "display_data"
    }
   ],
   "source": [
    "# Check how many proteins have no labels\n",
    "ax = labels_df.sum(axis=1).value_counts().plot(kind='hist', bins=5000)\n",
    "ax.set_xlim(0, 10)\n",
    "plt.show()\n",
    "\n",
    "# As we can see there are no proteins with no labels - great success (Borat voice)!"
   ]
  },
  {
   "cell_type": "markdown",
   "metadata": {},
   "source": [
    "Consider $Y_i$ to be a set of labels for the $i^{th}$ data sample. The extent to which a dataset is multi-label can be captured in two statistics:\n",
    "- Label cardinality, or the average number of labels per example in the set: $\\frac{1}{N} \\sum_{i=1}^N |Y_i|$\n",
    "- Label density is the number of labels per sample divided by the total number of labels, averaged over the samples: $\\frac{1}{N} \\sum_{i=1}^N \\frac{|Y_i|}{|L|}$, where $L = \\bigcup_{i=1}^N Y_i$ is the set of all labels in the dataset."
   ]
  },
  {
   "cell_type": "code",
   "execution_count": 19,
   "metadata": {},
   "outputs": [
    {
     "name": "stdout",
     "output_type": "stream",
     "text": [
      "The label cardinality of the training set is 29.1235.\n",
      "The label density of the training set is 0.0194.\n"
     ]
    }
   ],
   "source": [
    "# Let's find the label cardinality\n",
    "print(f\"The label cardinality of the training set is {labels_df.sum(axis=1).mean():.4f}.\")\n",
    "# Let's find the label density\n",
    "print(f\"The label density of the training set is {labels_df.sum(axis=1).sum() / (labels_df.shape[1] * labels_df.shape[0]):.4f}.\")"
   ]
  },
  {
   "cell_type": "markdown",
   "metadata": {},
   "source": [
    "### Evaluation metrics\n",
    "\n",
    "Evaluation metrics for multi-label classification performance are inherently different from those used in multi-class (or binary) classification, due to the inherent differences of the classification problem. If T denotes the true set of labels for a given sample, and P the predicted set of labels, then the following metrics can be defined on that sample:\n",
    "- Hamming loss: the fraction of the wrong labels to the total number of labels\n",
    "$$ \\frac{1}{|N| \\cdot |L|} \\sum_{i=1}^{|N|} \\sum_{j=1}^{|L|} xor(y_{i,j}, z_{i,j}), $$\n",
    "where $y_{i,j}$ is the target, $z_{i,j}$ is the prediction, $|N|$ is the number of samples and $|L|$ is the number of labels.\n",
    "- Jaccard index, the number of correctly predicted labels divided by the union of predicted and true labels $\\frac{|T \\cap P|}{|T \\cup P|}$.\n",
    "- Precision, recall and $F_1$ score: precision is $\\frac{|T \\cap P|}{|P|}$, recall is $\\frac{|T \\cap P|}{|T|}$, and $F_1$ is their harmonic mean."
   ]
  },
  {
   "cell_type": "code",
   "execution_count": 57,
   "metadata": {},
   "outputs": [],
   "source": [
    "from sklearn.metrics import precision_score, recall_score, f1_score\n",
    "from sklearn.metrics import roc_auc_score, hamming_loss, jaccard_score\n",
    "\n",
    "def evaluation_report(y_pred, y_true):\n",
    "    \"\"\"\n",
    "    Compute evaluation metrics for multi-label classification\n",
    "    \"\"\"\n",
    "    # Let's start with basic label specific metrics\n",
    "    tp = np.sum(y_true * y_pred, axis=0)\n",
    "    fp = np.sum((1 - y_true) * y_pred, axis=0)\n",
    "    fn = np.sum(y_true * (1 - y_pred), axis=0)\n",
    "    tn = np.sum((1 - y_true) * (1 - y_pred), axis=0)\n",
    "\n",
    "    accuracy = (tp + tn) / (tp + tn + fp + fn)\n",
    "    precision = precision_score(y_true, y_pred, average=None, zero_division=0)\n",
    "    recall = recall_score(y_true, y_pred, average=None, zero_division=0)\n",
    "    f1 = f1_score(y_true, y_pred, average=None, zero_division=0)\n",
    "    \n",
    "    fig, ax = plt.subplots(2, 2, figsize=(10, 6), sharex=True, sharey=True)\n",
    "    ax = ax.flatten()\n",
    "    \n",
    "    metrics = [accuracy, precision, recall, f1]\n",
    "    metric_names = ['Accuracy', 'Precision', 'Recall', 'F1']\n",
    "    for i, metric in enumerate(metrics):\n",
    "        ax[i].plot(np.arange(len(metric)), metric)\n",
    "        ax[i].set_xlabel('GO term')\n",
    "        # Remove xticks\n",
    "        ax[i].set_xticks([])\n",
    "        ax[i].set_ylabel('Metric value')\n",
    "        macro_metric = metric.mean()\n",
    "        ax[i].set_title(f'Metric: {metric_names[i]} \\nMacro average: {macro_metric:.6f}',\n",
    "                        fontsize=10)\n",
    "    plt.tight_layout()\n",
    "    plt.show()\n",
    "    \n",
    "    # Calculate the Hamming loss\n",
    "    hamming = hamming_loss(y_true, y_pred)\n",
    "    print(f\"Hamming loss: {hamming:.6f}.\")\n",
    "    \n",
    "    # Calculate the Jaccard index\n",
    "    jacard = jaccard_score(y_true, y_pred, average='macro', zero_division=0)\n",
    "    print(f\"Jaccard index: {jacard.mean():.6f}.\")"
   ]
  },
  {
   "cell_type": "markdown",
   "metadata": {},
   "source": [
    "### Modelling\n",
    "\n",
    "To start off, we will take the first 10 000 proteins in the train set and only use those to speed up this ad hoc modelling. The real modelling will be done in a separate notebook."
   ]
  },
  {
   "cell_type": "code",
   "execution_count": 21,
   "metadata": {},
   "outputs": [
    {
     "name": "stdout",
     "output_type": "stream",
     "text": [
      "3.0      612\n",
      "5.0      371\n",
      "10.0     295\n",
      "9.0      277\n",
      "8.0      251\n",
      "        ... \n",
      "183.0      1\n",
      "234.0      1\n",
      "207.0      1\n",
      "120.0      1\n",
      "158.0      1\n",
      "Name: count, Length: 204, dtype: int64\n"
     ]
    }
   ],
   "source": [
    "reduced_labels_df = labels_df.iloc[:10000, :]\n",
    "reduced_train_sequences_df = train_sequences_df.iloc[:10000, :]\n",
    "\n",
    "# Check how many proteins have no labels\n",
    "print(reduced_labels_df.sum(axis=1).value_counts())"
   ]
  },
  {
   "cell_type": "code",
   "execution_count": 22,
   "metadata": {},
   "outputs": [],
   "source": [
    "# Train test split\n",
    "X_train = reduced_train_sequences_df.iloc[:8000, :]\n",
    "X_test = reduced_train_sequences_df.iloc[8000:, :]\n",
    "y_train = reduced_labels_df.iloc[:8000, :]\n",
    "y_test = reduced_labels_df.iloc[8000:, :]"
   ]
  },
  {
   "cell_type": "code",
   "execution_count": 58,
   "metadata": {},
   "outputs": [
    {
     "data": {
      "image/png": "[encoded data removed]",
      "text/plain": [
       "<Figure size 1000x600 with 4 Axes>"
      ]
     },
     "metadata": {},
     "output_type": "display_data"
    },
    {
     "name": "stdout",
     "output_type": "stream",
     "text": [
      "Hamming loss: 0.021825.\n",
      "Jaccard index: 0.002905.\n"
     ]
    }
   ],
   "source": [
    "# Create a simple model that predicts the frequency of each label\n",
    "\n",
    "class BaseModel:\n",
    "    def __init__(self, prediction_threshold=0.5):\n",
    "        self.labels = None\n",
    "        self.label_frequencies = None\n",
    "        self.prediction_threshold = prediction_threshold\n",
    "        \n",
    "    def fit(self, X, y):\n",
    "        self.labels = y.columns\n",
    "        self.label_frequencies = y.sum(axis=0) / y.shape[0]\n",
    "        \n",
    "    def predict(self, X):\n",
    "        return np.tile(self.label_frequencies >= self.prediction_threshold, (X.shape[0], 1))\n",
    "    \n",
    "    def predict_proba(self, X):\n",
    "        return np.tile(self.label_frequencies, (X.shape[0], 1))\n",
    "    \n",
    "    def score(self, X, y):\n",
    "        return (self.predict(X) == y).mean()\n",
    "    \n",
    "    def get_params(self, deep=True):\n",
    "        return {'prediction_threshold': self.prediction_threshold}\n",
    "    \n",
    "    def set_params(self, **params):\n",
    "        self.prediction_threshold = params['prediction_threshold']\n",
    "        return self\n",
    "    \n",
    "base_model = BaseModel()\n",
    "base_model.fit(X_train, y_train)\n",
    "test_scores = base_model.score(X_test, y_test)\n",
    "\n",
    "evaluation_report(base_model.predict(X_test), y_test)"
   ]
  },
  {
   "cell_type": "code",
   "execution_count": null,
   "metadata": {},
   "outputs": [],
   "source": []
  }
 ],
 "metadata": {
  "kernelspec": {
   "display_name": "CAFA_5_protein_function_prediction-GgHxkLcz",
   "language": "python",
   "name": "python3"
  },
  "language_info": {
   "codemirror_mode": {
    "name": "ipython",
    "version": 3
   },
   "file_extension": ".py",
   "mimetype": "text/x-python",
   "name": "python",
   "nbconvert_exporter": "python",
   "pygments_lexer": "ipython3",
   "version": "3.11.1"
  },
  "orig_nbformat": 4
 },
 "nbformat": 4,
 "nbformat_minor": 2
}
