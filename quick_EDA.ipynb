{
 "cells": [
  {
   "cell_type": "markdown",
   "metadata": {},
   "source": [
    "### Gene ontology"
   ]
  },
  {
   "cell_type": "code",
   "execution_count": 8,
   "metadata": {},
   "outputs": [],
   "source": [
    "import pandas as pd\n",
    "from pathlib import Path\n",
    "import random\n",
    "\n",
    "random.seed(42)\n",
    "path = Path(\"raw_data\")"
   ]
  },
  {
   "cell_type": "code",
   "execution_count": 9,
   "metadata": {},
   "outputs": [],
   "source": [
    "subontology_roots = {'BPO':'GO:0008150',\n",
    "                     'CCO':'GO:0005575',\n",
    "                     'MFO':'GO:0003674'}"
   ]
  },
  {
   "cell_type": "code",
   "execution_count": 10,
   "metadata": {},
   "outputs": [
    {
     "data": {
      "text/plain": [
       "(43248, 84805)"
      ]
     },
     "execution_count": 10,
     "metadata": {},
     "output_type": "execute_result"
    }
   ],
   "source": [
    "import networkx\n",
    "import obonet\n",
    "\n",
    "graph = obonet.read_obo(path/'Train/go-basic.obo')\n",
    "\n",
    "# Number of nodes & edges\n",
    "len(graph), graph.number_of_edges()"
   ]
  },
  {
   "cell_type": "code",
   "execution_count": 11,
   "metadata": {},
   "outputs": [],
   "source": [
    "# Create name mappings\n",
    "id_to_name = {id_: data.get('name') for id_, data in graph.nodes(data=True)}\n",
    "name_to_id = {data['name']: id_ for id_, data in graph.nodes(data=True) if 'name' in data}"
   ]
  },
  {
   "cell_type": "code",
   "execution_count": 12,
   "metadata": {},
   "outputs": [
    {
     "data": {
      "text/plain": [
       "('GO:1990820', 'response to mitotic DNA integrity checkpoint signaling')"
      ]
     },
     "execution_count": 12,
     "metadata": {},
     "output_type": "execute_result"
    }
   ],
   "source": [
    "# Randomly select a node\n",
    "random_node = random.choice(list(graph))\n",
    "random_node, id_to_name[random_node]"
   ]
  },
  {
   "cell_type": "code",
   "execution_count": 13,
   "metadata": {},
   "outputs": [
    {
     "name": "stdout",
     "output_type": "stream",
     "text": [
      "- response to mitotic DNA integrity checkpoint signaling -> is_a -> response to DNA integrity checkpoint signaling\n",
      "- response to mitotic DNA integrity checkpoint signaling -> is_a -> response to mitotic cell cycle checkpoint signaling\n"
     ]
    }
   ],
   "source": [
    "# Find edges to parent terms\n",
    "for child, parent, key in graph.out_edges(random_node, keys=True):\n",
    "    print(f'- {id_to_name[child]} -> {key} -> {id_to_name[parent]}')"
   ]
  },
  {
   "cell_type": "code",
   "execution_count": 14,
   "metadata": {},
   "outputs": [
    {
     "name": "stdout",
     "output_type": "stream",
     "text": [
      "- pilus <- part_of <- pilus shaft\n",
      "- pilus <- part_of <- pilus tip\n",
      "- pilus <- is_a <- type IV pilus\n",
      "- pilus <- is_a <- curli\n",
      "- pilus <- is_a <- type I pilus\n"
     ]
    }
   ],
   "source": [
    "# Find edges to children terms\n",
    "node = name_to_id['pilus']\n",
    "for parent, child, key in graph.in_edges(node, keys=True):\n",
    "    print(f'- {id_to_name[child]} <- {key} <- {id_to_name[parent]}')"
   ]
  },
  {
   "cell_type": "code",
   "execution_count": 15,
   "metadata": {},
   "outputs": [
    {
     "data": {
      "text/plain": [
       "['biological_process',\n",
       " 'cellular process',\n",
       " 'cellular response to biotic stimulus',\n",
       " 'cellular response to endogenous stimulus',\n",
       " 'cellular response to stimulus',\n",
       " 'response to DNA integrity checkpoint signaling',\n",
       " 'response to biotic stimulus',\n",
       " 'response to cell cycle checkpoint signaling',\n",
       " 'response to endogenous stimulus',\n",
       " 'response to mitotic cell cycle checkpoint signaling',\n",
       " 'response to stimulus']"
      ]
     },
     "execution_count": 15,
     "metadata": {},
     "output_type": "execute_result"
    }
   ],
   "source": [
    "# Find all superterms\n",
    "sorted(id_to_name[superterm] for superterm in networkx.descendants(graph, random_node))"
   ]
  },
  {
   "cell_type": "code",
   "execution_count": 16,
   "metadata": {},
   "outputs": [
    {
     "data": {
      "text/plain": [
       "['curli', 'pilus shaft', 'pilus tip', 'type I pilus', 'type IV pilus']"
      ]
     },
     "execution_count": 16,
     "metadata": {},
     "output_type": "execute_result"
    }
   ],
   "source": [
    "# Find all subterms\n",
    "sorted(id_to_name[subterm] for subterm in networkx.ancestors(graph, node))"
   ]
  },
  {
   "cell_type": "code",
   "execution_count": 17,
   "metadata": {},
   "outputs": [
    {
     "name": "stdout",
     "output_type": "stream",
     "text": [
      "• response to mitotic DNA integrity checkpoint signaling ⟶ response to DNA integrity checkpoint signaling ⟶ response to cell cycle checkpoint signaling ⟶ cellular response to biotic stimulus ⟶ response to biotic stimulus ⟶ response to stimulus ⟶ biological_process\n",
      "• response to mitotic DNA integrity checkpoint signaling ⟶ response to DNA integrity checkpoint signaling ⟶ response to cell cycle checkpoint signaling ⟶ cellular response to biotic stimulus ⟶ cellular response to stimulus ⟶ cellular process ⟶ biological_process\n",
      "• response to mitotic DNA integrity checkpoint signaling ⟶ response to DNA integrity checkpoint signaling ⟶ response to cell cycle checkpoint signaling ⟶ cellular response to biotic stimulus ⟶ cellular response to stimulus ⟶ response to stimulus ⟶ biological_process\n",
      "• response to mitotic DNA integrity checkpoint signaling ⟶ response to DNA integrity checkpoint signaling ⟶ response to cell cycle checkpoint signaling ⟶ cellular response to endogenous stimulus ⟶ response to endogenous stimulus ⟶ response to stimulus ⟶ biological_process\n",
      "• response to mitotic DNA integrity checkpoint signaling ⟶ response to mitotic cell cycle checkpoint signaling ⟶ response to cell cycle checkpoint signaling ⟶ cellular response to biotic stimulus ⟶ response to biotic stimulus ⟶ response to stimulus ⟶ biological_process\n",
      "• response to mitotic DNA integrity checkpoint signaling ⟶ response to mitotic cell cycle checkpoint signaling ⟶ response to cell cycle checkpoint signaling ⟶ cellular response to biotic stimulus ⟶ cellular response to stimulus ⟶ cellular process ⟶ biological_process\n",
      "• response to mitotic DNA integrity checkpoint signaling ⟶ response to mitotic cell cycle checkpoint signaling ⟶ response to cell cycle checkpoint signaling ⟶ cellular response to biotic stimulus ⟶ cellular response to stimulus ⟶ response to stimulus ⟶ biological_process\n",
      "• response to mitotic DNA integrity checkpoint signaling ⟶ response to mitotic cell cycle checkpoint signaling ⟶ response to cell cycle checkpoint signaling ⟶ cellular response to endogenous stimulus ⟶ response to endogenous stimulus ⟶ response to stimulus ⟶ biological_process\n"
     ]
    }
   ],
   "source": [
    "# Find all paths to the root\n",
    "paths = networkx.all_simple_paths(\n",
    "    graph,\n",
    "    source=random_node,\n",
    "    target=name_to_id['biological_process']\n",
    ")\n",
    "for pth in paths:\n",
    "    print('•', ' ⟶ '.join(id_to_name[node] for node in pth))"
   ]
  },
  {
   "cell_type": "markdown",
   "metadata": {},
   "source": [
    "### Train set\n",
    "\n",
    "train_sequences.fasta contains the protein sequences for the training dataset."
   ]
  },
  {
   "cell_type": "code",
   "execution_count": 18,
   "metadata": {},
   "outputs": [
    {
     "name": "stdout",
     "output_type": "stream",
     "text": [
      "142246 ids loaded.\n"
     ]
    }
   ],
   "source": [
    "def load_sequences(fasta_file):\n",
    "    sequences = {}\n",
    "    current_id = None\n",
    "    with open(fasta_file, 'rt') as file:\n",
    "        for line in file:\n",
    "            line = line.strip()\n",
    "            if line.startswith('>'):\n",
    "                # Extract the protein identifier from the line\n",
    "                identifier = line[1:].split()[0]\n",
    "                current_id = identifier\n",
    "                sequences[current_id] = ''\n",
    "            else:\n",
    "                sequences[current_id] += line\n",
    "\n",
    "    # Print number of protein sequences\n",
    "    print(str(len(sequences)) + ' ids loaded.')\n",
    "    return sequences\n",
    "\n",
    "\n",
    "train_file = path/\"Train/train_sequences.fasta\"\n",
    "train_sequences = load_sequences(train_file)"
   ]
  },
  {
   "cell_type": "code",
   "execution_count": 19,
   "metadata": {},
   "outputs": [
    {
     "name": "stdout",
     "output_type": "stream",
     "text": [
      "Number of aminoacids: 25, aminoacids: ABCDEFGHIKLMNOPQRSTUVWXYZ\n"
     ]
    }
   ],
   "source": [
    "train_alphabet = list(set(''.join(train_sequences.values())))\n",
    "print(f'Number of aminoacids: {len(train_alphabet)}, aminoacids: {\"\".join(sorted(train_alphabet))}')"
   ]
  },
  {
   "cell_type": "code",
   "execution_count": 20,
   "metadata": {},
   "outputs": [
    {
     "name": "stdout",
     "output_type": "stream",
     "text": [
      "Max: 35375, min: 3.\n"
     ]
    },
    {
     "data": {
      "image/png": "[encoded data removed]",
      "text/plain": [
       "<Figure size 640x480 with 1 Axes>"
      ]
     },
     "metadata": {},
     "output_type": "display_data"
    }
   ],
   "source": [
    "import matplotlib.pyplot as plt\n",
    "import matplotlib\n",
    "matplotlib.style.use('ggplot')\n",
    "\n",
    "sequence_lengths = [len(sequence) for sequence in train_sequences.values()]\n",
    "\n",
    "print(f'Max: {max(sequence_lengths)}, min: {min(sequence_lengths)}.')\n",
    "\n",
    "# Plot histogram\n",
    "plt.hist([x for x in sequence_lengths if x < 6000], bins=50)\n",
    "plt.xlabel('Sequence Length')\n",
    "plt.ylabel('Count')\n",
    "plt.title('Histogram of Sequence Lengths (capped at 6.000)')\n",
    "plt.show()"
   ]
  },
  {
   "cell_type": "markdown",
   "metadata": {},
   "source": [
    "### Taxonomy\n",
    "\n",
    "train_taxonomy.tsv contains the list of proteins and the species to which they belong."
   ]
  },
  {
   "cell_type": "code",
   "execution_count": 21,
   "metadata": {},
   "outputs": [
    {
     "data": {
      "text/html": [
       "<div>\n",
       "<style scoped>\n",
       "    .dataframe tbody tr th:only-of-type {\n",
       "        vertical-align: middle;\n",
       "    }\n",
       "\n",
       "    .dataframe tbody tr th {\n",
       "        vertical-align: top;\n",
       "    }\n",
       "\n",
       "    .dataframe thead th {\n",
       "        text-align: right;\n",
       "    }\n",
       "</style>\n",
       "<table border=\"1\" class=\"dataframe\">\n",
       "  <thead>\n",
       "    <tr style=\"text-align: right;\">\n",
       "      <th></th>\n",
       "      <th>EntryID</th>\n",
       "      <th>taxonomyID</th>\n",
       "    </tr>\n",
       "  </thead>\n",
       "  <tbody>\n",
       "    <tr>\n",
       "      <th>0</th>\n",
       "      <td>Q8IXT2</td>\n",
       "      <td>9606</td>\n",
       "    </tr>\n",
       "    <tr>\n",
       "      <th>1</th>\n",
       "      <td>Q04418</td>\n",
       "      <td>559292</td>\n",
       "    </tr>\n",
       "    <tr>\n",
       "      <th>2</th>\n",
       "      <td>A8DYA3</td>\n",
       "      <td>7227</td>\n",
       "    </tr>\n",
       "    <tr>\n",
       "      <th>3</th>\n",
       "      <td>Q9UUI3</td>\n",
       "      <td>284812</td>\n",
       "    </tr>\n",
       "    <tr>\n",
       "      <th>4</th>\n",
       "      <td>Q57ZS4</td>\n",
       "      <td>185431</td>\n",
       "    </tr>\n",
       "  </tbody>\n",
       "</table>\n",
       "</div>"
      ],
      "text/plain": [
       "  EntryID  taxonomyID\n",
       "0  Q8IXT2        9606\n",
       "1  Q04418      559292\n",
       "2  A8DYA3        7227\n",
       "3  Q9UUI3      284812\n",
       "4  Q57ZS4      185431"
      ]
     },
     "execution_count": 21,
     "metadata": {},
     "output_type": "execute_result"
    }
   ],
   "source": [
    "taxonomy = pd.read_csv(path/'Train/train_taxonomy.tsv', sep='\\t')\n",
    "taxonomy.head()"
   ]
  },
  {
   "cell_type": "code",
   "execution_count": 22,
   "metadata": {},
   "outputs": [
    {
     "data": {
      "image/png": "[encoded data removed]",
      "text/plain": [
       "<Figure size 640x480 with 1 Axes>"
      ]
     },
     "metadata": {},
     "output_type": "display_data"
    }
   ],
   "source": [
    "# Group the DataFrame by Taxon ID and count the number of occurrences\n",
    "train_counts = taxonomy.groupby(\"taxonomyID\").size().reset_index(name=\"Count\")\n",
    "\n",
    "# Sort the counts in descending order\n",
    "train_counts = train_counts.sort_values(\"Count\", ascending=False).reset_index(drop=True)\n",
    "\n",
    "train_counts.head(100).Count.plot(kind='line')\n",
    "plt.show()"
   ]
  },
  {
   "cell_type": "markdown",
   "metadata": {},
   "source": [
    "### Labels\n",
    "train_terms.tsv contains the list of annotated terms (ground truth) for the proteins in train_sequences.fasta."
   ]
  },
  {
   "cell_type": "code",
   "execution_count": 23,
   "metadata": {},
   "outputs": [
    {
     "data": {
      "text/html": [
       "<div>\n",
       "<style scoped>\n",
       "    .dataframe tbody tr th:only-of-type {\n",
       "        vertical-align: middle;\n",
       "    }\n",
       "\n",
       "    .dataframe tbody tr th {\n",
       "        vertical-align: top;\n",
       "    }\n",
       "\n",
       "    .dataframe thead th {\n",
       "        text-align: right;\n",
       "    }\n",
       "</style>\n",
       "<table border=\"1\" class=\"dataframe\">\n",
       "  <thead>\n",
       "    <tr style=\"text-align: right;\">\n",
       "      <th></th>\n",
       "      <th>EntryID</th>\n",
       "      <th>term</th>\n",
       "      <th>aspect</th>\n",
       "    </tr>\n",
       "  </thead>\n",
       "  <tbody>\n",
       "    <tr>\n",
       "      <th>0</th>\n",
       "      <td>A0A009IHW8</td>\n",
       "      <td>GO:0008152</td>\n",
       "      <td>BPO</td>\n",
       "    </tr>\n",
       "    <tr>\n",
       "      <th>1</th>\n",
       "      <td>A0A009IHW8</td>\n",
       "      <td>GO:0034655</td>\n",
       "      <td>BPO</td>\n",
       "    </tr>\n",
       "    <tr>\n",
       "      <th>2</th>\n",
       "      <td>A0A009IHW8</td>\n",
       "      <td>GO:0072523</td>\n",
       "      <td>BPO</td>\n",
       "    </tr>\n",
       "    <tr>\n",
       "      <th>3</th>\n",
       "      <td>A0A009IHW8</td>\n",
       "      <td>GO:0044270</td>\n",
       "      <td>BPO</td>\n",
       "    </tr>\n",
       "    <tr>\n",
       "      <th>4</th>\n",
       "      <td>A0A009IHW8</td>\n",
       "      <td>GO:0006753</td>\n",
       "      <td>BPO</td>\n",
       "    </tr>\n",
       "  </tbody>\n",
       "</table>\n",
       "</div>"
      ],
      "text/plain": [
       "      EntryID        term aspect\n",
       "0  A0A009IHW8  GO:0008152    BPO\n",
       "1  A0A009IHW8  GO:0034655    BPO\n",
       "2  A0A009IHW8  GO:0072523    BPO\n",
       "3  A0A009IHW8  GO:0044270    BPO\n",
       "4  A0A009IHW8  GO:0006753    BPO"
      ]
     },
     "execution_count": 23,
     "metadata": {},
     "output_type": "execute_result"
    }
   ],
   "source": [
    "train_labels = pd.read_csv(path/'Train/train_terms.tsv', sep='\\t')\n",
    "train_labels.head()"
   ]
  },
  {
   "cell_type": "code",
   "execution_count": 24,
   "metadata": {},
   "outputs": [
    {
     "data": {
      "text/plain": [
       "(5363863, 31466)"
      ]
     },
     "execution_count": 24,
     "metadata": {},
     "output_type": "execute_result"
    }
   ],
   "source": [
    "len(train_labels), train_labels.term.nunique()"
   ]
  },
  {
   "cell_type": "code",
   "execution_count": 25,
   "metadata": {},
   "outputs": [
    {
     "name": "stdout",
     "output_type": "stream",
     "text": [
      "Min GO terms per protein ID: 2\n",
      "Max GO terms per protein ID: 815\n",
      "Median GO terms per protein ID: 24.0\n",
      "Average GO terms per protein ID: 37.70835735275509\n"
     ]
    }
   ],
   "source": [
    "# Calculate min, max, median, and average number of GO terms per protein id\n",
    "go_terms_per_protein = train_labels.groupby('EntryID')['term'].count()\n",
    "min_go_terms_per_protein = go_terms_per_protein.min()\n",
    "max_go_terms_per_protein = go_terms_per_protein.max()\n",
    "median_go_terms_per_protein = go_terms_per_protein.median()\n",
    "average_go_terms_per_protein = go_terms_per_protein.mean()\n",
    "\n",
    "# Print the results\n",
    "print(\"Min GO terms per protein ID:\", min_go_terms_per_protein)\n",
    "print(\"Max GO terms per protein ID:\", max_go_terms_per_protein)\n",
    "print(\"Median GO terms per protein ID:\", median_go_terms_per_protein)\n",
    "print(\"Average GO terms per protein ID:\", average_go_terms_per_protein)"
   ]
  },
  {
   "cell_type": "code",
   "execution_count": 26,
   "metadata": {},
   "outputs": [
    {
     "name": "stdout",
     "output_type": "stream",
     "text": [
      "Min unique protein ID per GO term: 1\n",
      "Max unique protein ID per GO term: 92912\n",
      "Median unique protein ID per GO term: 8.0\n",
      "Average unique protein ID per GO term: 170.46535943558126\n"
     ]
    }
   ],
   "source": [
    "# Calculate min, max, median, and average number of unique protein id per GO term\n",
    "proteins_per_go_term = train_labels.groupby('term')['EntryID'].nunique()\n",
    "min_proteins_per_go_term = proteins_per_go_term.min()\n",
    "max_proteins_per_go_term = proteins_per_go_term.max()\n",
    "median_proteins_per_go_term = proteins_per_go_term.median()\n",
    "average_proteins_per_go_term = proteins_per_go_term.mean()\n",
    "\n",
    "print(\"Min unique protein ID per GO term:\", min_proteins_per_go_term)\n",
    "print(\"Max unique protein ID per GO term:\", max_proteins_per_go_term)\n",
    "print(\"Median unique protein ID per GO term:\", median_proteins_per_go_term)\n",
    "print(\"Average unique protein ID per GO term:\", average_proteins_per_go_term)"
   ]
  },
  {
   "cell_type": "code",
   "execution_count": 27,
   "metadata": {},
   "outputs": [
    {
     "name": "stdout",
     "output_type": "stream",
     "text": [
      "Min unique protein ID per GO term per aspect:\n",
      "BPO 1\n",
      "CCO 1\n",
      "MFO 1\n",
      "\n",
      "Max unique protein ID per GO term per aspect:\n",
      "BPO 92210\n",
      "CCO 92912\n",
      "MFO 78637\n",
      "\n",
      "Median unique protein ID per GO term per aspect:\n",
      "BPO 10.0\n",
      "CCO 9.0\n",
      "MFO 5.0\n",
      "\n",
      "Average unique protein ID per GO term per aspect:\n",
      "BPO 164.3284942447733\n",
      "CCO 404.46973283733513\n",
      "MFO 92.76218161683278\n"
     ]
    }
   ],
   "source": [
    "# Calculate min, max, median, and average number of unique protein ID per GO term for each aspect\n",
    "unique_proteins_per_go_term = train_labels.groupby(['aspect', 'term'])['EntryID'].nunique()\n",
    "min_proteins_per_go_term = unique_proteins_per_go_term.groupby('aspect').min()\n",
    "max_proteins_per_go_term = unique_proteins_per_go_term.groupby('aspect').max()\n",
    "median_proteins_per_go_term = unique_proteins_per_go_term.groupby('aspect').median()\n",
    "average_proteins_per_go_term = unique_proteins_per_go_term.groupby('aspect').mean()\n",
    "\n",
    "print(\"Min unique protein ID per GO term per aspect:\")\n",
    "for aspect, value in min_proteins_per_go_term.items():\n",
    "    print(aspect, value)\n",
    "print()\n",
    "print(\"Max unique protein ID per GO term per aspect:\")\n",
    "for aspect, value in max_proteins_per_go_term.items():\n",
    "    print(aspect, value)\n",
    "print()\n",
    "print(\"Median unique protein ID per GO term per aspect:\")\n",
    "for aspect, value in median_proteins_per_go_term.items():\n",
    "    print(aspect, value)\n",
    "print()\n",
    "print(\"Average unique protein ID per GO term per aspect:\")\n",
    "for aspect, value in average_proteins_per_go_term.items():\n",
    "    print(aspect, value)"
   ]
  },
  {
   "cell_type": "code",
   "execution_count": 28,
   "metadata": {},
   "outputs": [
    {
     "name": "stdout",
     "output_type": "stream",
     "text": [
      "Unique terms per aspect\n",
      "BPO    21285\n",
      "CCO     2957\n",
      "MFO     7224\n",
      "Name: term, dtype: int64\n"
     ]
    }
   ],
   "source": [
    "# Count the number of unique terms per aspect (ontology)\n",
    "unique_terms_per_aspect = train_labels.groupby('aspect')['term'].nunique()\n",
    "\n",
    "print(\"Unique terms per\", unique_terms_per_aspect)"
   ]
  },
  {
   "cell_type": "code",
   "execution_count": 29,
   "metadata": {},
   "outputs": [
    {
     "name": "stdout",
     "output_type": "stream",
     "text": [
      "BPO: top term has 92210 annotations, 500th top term has 1148 annotations.\n",
      "CCO: top term has 92912 annotations, 500th top term has 96 annotations.\n",
      "MFO: top term has 78637 annotations, 500th top term has 109 annotations.\n",
      "\n"
     ]
    },
    {
     "data": {
      "image/png": "[encoded data removed]",
      "text/plain": [
       "<Figure size 640x480 with 1 Axes>"
      ]
     },
     "metadata": {},
     "output_type": "display_data"
    }
   ],
   "source": [
    "# Create histograms of GO terms per aspect\n",
    "histograms = train_labels.groupby('aspect')['term'].value_counts()\n",
    "\n",
    "# Convert the output into a readable chart\n",
    "chart_data = []\n",
    "for aspect, histogram in histograms.groupby(level=0):\n",
    "    aspect_chart_data = []\n",
    "    for nterms in [10, 50, 100, 200, 300, 400, 500]:\n",
    "        min_freq = min(histogram.head(nterms))\n",
    "        aspect_chart_data.append((nterms, min_freq))\n",
    "    chart_data.append((aspect, aspect_chart_data))\n",
    "    print(f'{aspect}: top term has {max(histogram)} annotations, 500th top term has {min(histogram.head(500))} annotations.')\n",
    "\n",
    "print()\n",
    "    \n",
    "# Plot the chart\n",
    "fig, ax = plt.subplots()\n",
    "\n",
    "# Iterate over each aspect's data\n",
    "for aspect, data in chart_data:\n",
    "    x_values, y_values = zip(*data)\n",
    "    ax.plot(x_values, y_values, marker='o', label=aspect)\n",
    "\n",
    "# Set chart title and labels\n",
    "ax.set_title(\"Minimum Frequency of Top Terms in Each Aspect at Different Cutoffs\")\n",
    "ax.set_xlabel(\"Number of Top Terms\")\n",
    "ax.set_ylabel(\"Minimum Frequency\")\n",
    "\n",
    "# Add legend\n",
    "ax.legend()\n",
    "\n",
    "# Show the chart\n",
    "plt.show()"
   ]
  },
  {
   "cell_type": "code",
   "execution_count": 30,
   "metadata": {},
   "outputs": [
    {
     "name": "stdout",
     "output_type": "stream",
     "text": [
      "This is how many terms we can keep if we set threshold at minimum 50 annotations per term:\n",
      "{'BPO': 4866}\n",
      "{'CCO': 700}\n",
      "{'MFO': 856}\n"
     ]
    }
   ],
   "source": [
    "# Calculate the number of terms needed for a minimum of 50 annotations per term\n",
    "num_terms_needed = []\n",
    "for aspect, histogram in histograms.groupby(level=0):\n",
    "    terms_needed = 0\n",
    "    for term, freq in histogram.items():\n",
    "        terms_needed += 1\n",
    "        if freq < 50:\n",
    "            num_terms_needed.append({aspect: terms_needed})\n",
    "            break\n",
    "            \n",
    "print('This is how many terms we can keep if we set threshold at minimum 50 annotations per term:')\n",
    "for x in num_terms_needed:\n",
    "    print(x)"
   ]
  },
  {
   "cell_type": "markdown",
   "metadata": {},
   "source": [
    "### Test\n",
    "testsuperset.fasta contains protein sequences on which the participants are asked to submit predictions."
   ]
  },
  {
   "cell_type": "code",
   "execution_count": 31,
   "metadata": {},
   "outputs": [
    {
     "name": "stdout",
     "output_type": "stream",
     "text": [
      "Loaded 141865 test sequences.\n",
      "\n"
     ]
    },
    {
     "data": {
      "text/html": [
       "<div>\n",
       "<style scoped>\n",
       "    .dataframe tbody tr th:only-of-type {\n",
       "        vertical-align: middle;\n",
       "    }\n",
       "\n",
       "    .dataframe tbody tr th {\n",
       "        vertical-align: top;\n",
       "    }\n",
       "\n",
       "    .dataframe thead th {\n",
       "        text-align: right;\n",
       "    }\n",
       "</style>\n",
       "<table border=\"1\" class=\"dataframe\">\n",
       "  <thead>\n",
       "    <tr style=\"text-align: right;\">\n",
       "      <th></th>\n",
       "      <th>Protein ID</th>\n",
       "      <th>Sequence</th>\n",
       "      <th>Taxon</th>\n",
       "    </tr>\n",
       "  </thead>\n",
       "  <tbody>\n",
       "    <tr>\n",
       "      <th>0</th>\n",
       "      <td>Q9CQV8</td>\n",
       "      <td>MTMDKSELVQKAKLAEQAERYDDMAAAMKAVTEQGHELSNEERNLL...</td>\n",
       "      <td>10090</td>\n",
       "    </tr>\n",
       "    <tr>\n",
       "      <th>1</th>\n",
       "      <td>P62259</td>\n",
       "      <td>MDDREDLVYQAKLAEQAERYDEMVESMKKVAGMDVELTVEERNLLS...</td>\n",
       "      <td>10090</td>\n",
       "    </tr>\n",
       "    <tr>\n",
       "      <th>2</th>\n",
       "      <td>P68510</td>\n",
       "      <td>MGDREQLLQRARLAEQAERYDDMASAMKAVTELNEPLSNEDRNLLS...</td>\n",
       "      <td>10090</td>\n",
       "    </tr>\n",
       "    <tr>\n",
       "      <th>3</th>\n",
       "      <td>P61982</td>\n",
       "      <td>MVDREQLVQKARLAEQAERYDDMAAAMKNVTELNEPLSNEERNLLS...</td>\n",
       "      <td>10090</td>\n",
       "    </tr>\n",
       "    <tr>\n",
       "      <th>4</th>\n",
       "      <td>O70456</td>\n",
       "      <td>MERASLIQKAKLAEQAERYEDMAAFMKSAVEKGEELSCEERNLLSV...</td>\n",
       "      <td>10090</td>\n",
       "    </tr>\n",
       "  </tbody>\n",
       "</table>\n",
       "</div>"
      ],
      "text/plain": [
       "  Protein ID                                           Sequence  Taxon\n",
       "0     Q9CQV8  MTMDKSELVQKAKLAEQAERYDDMAAAMKAVTEQGHELSNEERNLL...  10090\n",
       "1     P62259  MDDREDLVYQAKLAEQAERYDEMVESMKKVAGMDVELTVEERNLLS...  10090\n",
       "2     P68510  MGDREQLLQRARLAEQAERYDDMASAMKAVTELNEPLSNEDRNLLS...  10090\n",
       "3     P61982  MVDREQLVQKARLAEQAERYDDMAAAMKNVTELNEPLSNEERNLLS...  10090\n",
       "4     O70456  MERASLIQKAKLAEQAERYEDMAAFMKSAVEKGEELSCEERNLLSV...  10090"
      ]
     },
     "execution_count": 31,
     "metadata": {},
     "output_type": "execute_result"
    }
   ],
   "source": [
    "from Bio import SeqIO\n",
    "\n",
    "test_file = path/'Test (Targets)/testsuperset.fasta'\n",
    "\n",
    "data = []\n",
    "for record in SeqIO.parse(test_file, \"fasta\"):\n",
    "    protein_id, taxon = record.description.split(\"\\t\")\n",
    "    sequence = str(record.seq)\n",
    "    data.append((protein_id, sequence, taxon))\n",
    "\n",
    "test_sequences = pd.DataFrame(data, columns=[\"Protein ID\", \"Sequence\", \"Taxon\"])\n",
    "print(f'Loaded {len(test_sequences)} test sequences.\\n')\n",
    "test_sequences.head()"
   ]
  },
  {
   "cell_type": "code",
   "execution_count": 32,
   "metadata": {},
   "outputs": [
    {
     "data": {
      "text/plain": [
       "73653"
      ]
     },
     "execution_count": 32,
     "metadata": {},
     "output_type": "execute_result"
    }
   ],
   "source": [
    "len([x for x in test_sequences[\"Protein ID\"].values if x in train_sequences.keys()])"
   ]
  },
  {
   "cell_type": "code",
   "execution_count": 33,
   "metadata": {},
   "outputs": [
    {
     "name": "stdout",
     "output_type": "stream",
     "text": [
      "Number of aminoacids: 24, aminoacids: ABCDEFGHIKLMNPQRSTUVWXYZ\n"
     ]
    }
   ],
   "source": [
    "test_alphabet = list(set(''.join(test_sequences.Sequence.values)))\n",
    "print(f'Number of aminoacids: {len(test_alphabet)}, aminoacids: {\"\".join(sorted(test_alphabet))}')"
   ]
  },
  {
   "cell_type": "code",
   "execution_count": 34,
   "metadata": {},
   "outputs": [
    {
     "name": "stdout",
     "output_type": "stream",
     "text": [
      "Max: 35213, min: 2.\n"
     ]
    },
    {
     "data": {
      "image/png": "[encoded data removed]",
      "text/plain": [
       "<Figure size 640x480 with 1 Axes>"
      ]
     },
     "metadata": {},
     "output_type": "display_data"
    }
   ],
   "source": [
    "sequence_lengths = [len(sequence) for sequence in test_sequences.Sequence.values]\n",
    "\n",
    "print(f'Max: {max(sequence_lengths)}, min: {min(sequence_lengths)}.')\n",
    "\n",
    "# Plot histogram\n",
    "plt.hist([x for x in sequence_lengths if x < 6000], bins=50)\n",
    "plt.xlabel('Sequence Length')\n",
    "plt.ylabel('Count')\n",
    "plt.title('Histogram of Test Sequence Lengths (capped at 6.000)')\n",
    "plt.show()"
   ]
  },
  {
   "cell_type": "code",
   "execution_count": 35,
   "metadata": {},
   "outputs": [
    {
     "data": {
      "image/png": "[encoded data removed]",
      "text/plain": [
       "<Figure size 640x480 with 1 Axes>"
      ]
     },
     "metadata": {},
     "output_type": "display_data"
    }
   ],
   "source": [
    "# Group the DataFrame by Taxon ID and count the number of occurrences\n",
    "test_counts = test_sequences.groupby(\"Taxon\").size().reset_index(name=\"Count\")\n",
    "\n",
    "# Sort the counts in descending order\n",
    "test_counts = test_counts.sort_values(\"Count\", ascending=False).reset_index(drop=True)\n",
    "\n",
    "test_counts.head(100).Count.plot(kind='line');"
   ]
  },
  {
   "cell_type": "code",
   "execution_count": 36,
   "metadata": {},
   "outputs": [],
   "source": [
    "train_counts['Taxon'] = train_counts.taxonomyID.astype('str')\n",
    "compare_counts = pd.merge(test_counts, train_counts[['Taxon', 'Count']], how='left', on='Taxon', suffixes=['_test', '_train'])"
   ]
  },
  {
   "cell_type": "code",
   "execution_count": 37,
   "metadata": {},
   "outputs": [
    {
     "data": {
      "text/html": [
       "<div>\n",
       "<style scoped>\n",
       "    .dataframe tbody tr th:only-of-type {\n",
       "        vertical-align: middle;\n",
       "    }\n",
       "\n",
       "    .dataframe tbody tr th {\n",
       "        vertical-align: top;\n",
       "    }\n",
       "\n",
       "    .dataframe thead th {\n",
       "        text-align: right;\n",
       "    }\n",
       "</style>\n",
       "<table border=\"1\" class=\"dataframe\">\n",
       "  <thead>\n",
       "    <tr style=\"text-align: right;\">\n",
       "      <th></th>\n",
       "      <th>Taxon</th>\n",
       "      <th>Count_test</th>\n",
       "      <th>Count_train</th>\n",
       "      <th>Diff</th>\n",
       "    </tr>\n",
       "  </thead>\n",
       "  <tbody>\n",
       "    <tr>\n",
       "      <th>5</th>\n",
       "      <td>9913</td>\n",
       "      <td>6035</td>\n",
       "      <td>1026.0</td>\n",
       "      <td>5009.0</td>\n",
       "    </tr>\n",
       "    <tr>\n",
       "      <th>9</th>\n",
       "      <td>224308</td>\n",
       "      <td>4191</td>\n",
       "      <td>396.0</td>\n",
       "      <td>3795.0</td>\n",
       "    </tr>\n",
       "    <tr>\n",
       "      <th>10</th>\n",
       "      <td>39947</td>\n",
       "      <td>4180</td>\n",
       "      <td>1311.0</td>\n",
       "      <td>2869.0</td>\n",
       "    </tr>\n",
       "    <tr>\n",
       "      <th>13</th>\n",
       "      <td>8355</td>\n",
       "      <td>3480</td>\n",
       "      <td>685.0</td>\n",
       "      <td>2795.0</td>\n",
       "    </tr>\n",
       "    <tr>\n",
       "      <th>1</th>\n",
       "      <td>10090</td>\n",
       "      <td>17141</td>\n",
       "      <td>14384.0</td>\n",
       "      <td>2757.0</td>\n",
       "    </tr>\n",
       "  </tbody>\n",
       "</table>\n",
       "</div>"
      ],
      "text/plain": [
       "     Taxon  Count_test  Count_train    Diff\n",
       "5     9913        6035       1026.0  5009.0\n",
       "9   224308        4191        396.0  3795.0\n",
       "10   39947        4180       1311.0  2869.0\n",
       "13    8355        3480        685.0  2795.0\n",
       "1    10090       17141      14384.0  2757.0"
      ]
     },
     "execution_count": 37,
     "metadata": {},
     "output_type": "execute_result"
    }
   ],
   "source": [
    "compare_counts['Diff'] = compare_counts['Count_test'] - compare_counts['Count_train']\n",
    "compare_counts = compare_counts.sort_values('Diff', ascending=False)\n",
    "compare_counts.head()"
   ]
  },
  {
   "cell_type": "markdown",
   "metadata": {},
   "source": [
    "### Submission\n",
    "The list of predictions contains a list of pairs between protein targets and GO terms, followed by the probabilistic estimate of the relationship (one association per line). The target name must correspond to the target ID listed in the test set (in the FASTA header for each sequence). The GO ID must correspond to valid terms in GO's version listed in the Data section---invalid terms are automatically excluded from evaluation. Molecular Function (MF), Biological Process (BP), and Cellular Component (CC) subontologies of GO are to be combined in the prediction files, but they will be evaluated independently and combined at the end as described above. The score must be in the interval (0, 1.000] and contain up to 3 (three) significant figures. A score of 0 is not allowed; that is, the team should simply not list such pairs. In case the predictions in the submitted files are not propagated to the root of ontology, the predictions will be recursively propagated by assigning each parent term a score that is the maximum score among its children's scores. Finally, to limit prediction file sizes, one target cannot be associated with more than 1500 terms for MF, BP, and CC subontologies combined.\n",
    "\n",
    "For any protein ID in the test superset, you must list a set of GO terms and assign your estimated probability. If a protein ID is not listed in your submitted file, the organizers will assume that all predictions are 0. The file should not contain a header, columns must be tab or space separated. An example submission file may look as follows:"
   ]
  },
  {
   "cell_type": "code",
   "execution_count": 38,
   "metadata": {},
   "outputs": [
    {
     "data": {
      "text/html": [
       "<div>\n",
       "<style scoped>\n",
       "    .dataframe tbody tr th:only-of-type {\n",
       "        vertical-align: middle;\n",
       "    }\n",
       "\n",
       "    .dataframe tbody tr th {\n",
       "        vertical-align: top;\n",
       "    }\n",
       "\n",
       "    .dataframe thead th {\n",
       "        text-align: right;\n",
       "    }\n",
       "</style>\n",
       "<table border=\"1\" class=\"dataframe\">\n",
       "  <thead>\n",
       "    <tr style=\"text-align: right;\">\n",
       "      <th></th>\n",
       "      <th>0</th>\n",
       "      <th>1</th>\n",
       "      <th>2</th>\n",
       "    </tr>\n",
       "  </thead>\n",
       "  <tbody>\n",
       "    <tr>\n",
       "      <th>0</th>\n",
       "      <td>A0A0A0MRZ7</td>\n",
       "      <td>GO:0000001</td>\n",
       "      <td>0.123</td>\n",
       "    </tr>\n",
       "    <tr>\n",
       "      <th>1</th>\n",
       "      <td>A0A0A0MRZ7</td>\n",
       "      <td>GO:0000002</td>\n",
       "      <td>0.123</td>\n",
       "    </tr>\n",
       "    <tr>\n",
       "      <th>2</th>\n",
       "      <td>A0A0A0MRZ8</td>\n",
       "      <td>GO:0000001</td>\n",
       "      <td>0.123</td>\n",
       "    </tr>\n",
       "    <tr>\n",
       "      <th>3</th>\n",
       "      <td>A0A0A0MRZ8</td>\n",
       "      <td>GO:0000002</td>\n",
       "      <td>0.123</td>\n",
       "    </tr>\n",
       "    <tr>\n",
       "      <th>4</th>\n",
       "      <td>A0A0A0MRZ9</td>\n",
       "      <td>GO:0000001</td>\n",
       "      <td>0.123</td>\n",
       "    </tr>\n",
       "  </tbody>\n",
       "</table>\n",
       "</div>"
      ],
      "text/plain": [
       "            0           1      2\n",
       "0  A0A0A0MRZ7  GO:0000001  0.123\n",
       "1  A0A0A0MRZ7  GO:0000002  0.123\n",
       "2  A0A0A0MRZ8  GO:0000001  0.123\n",
       "3  A0A0A0MRZ8  GO:0000002  0.123\n",
       "4  A0A0A0MRZ9  GO:0000001  0.123"
      ]
     },
     "execution_count": 38,
     "metadata": {},
     "output_type": "execute_result"
    }
   ],
   "source": [
    "pd.read_csv(path/'sample_submission.tsv', sep='\\t', header=None).head()"
   ]
  },
  {
   "cell_type": "markdown",
   "metadata": {},
   "source": [
    "### Naive submission"
   ]
  },
  {
   "cell_type": "code",
   "execution_count": 39,
   "metadata": {},
   "outputs": [],
   "source": [
    "from collections import Counter\n",
    "\n",
    "def assign_frequencies(train_df, test_sequences, num_terms):\n",
    "    # Extract the frequencies of GO terms from the train dataframe\n",
    "    term_frequencies = Counter(train_df['term'])\n",
    "\n",
    "    # Select the top 'num_terms' frequent GO terms\n",
    "    most_common_terms = [term for term, _ in term_frequencies.most_common(num_terms)]\n",
    "\n",
    "    # Assign frequencies to test sequences\n",
    "    test_assignments = []\n",
    "    for sequence in test_sequences:\n",
    "        term_counts = Counter(sequence)\n",
    "        frequencies = [term_counts[term] for term in most_common_terms]\n",
    "        test_assignments.append(frequencies)\n",
    "\n",
    "    return test_assignments\n",
    "\n",
    "num_terms = 1500\n",
    "\n",
    "assignments = assign_frequencies(train_labels, test_sequences.Sequence.values, num_terms)"
   ]
  },
  {
   "cell_type": "code",
   "execution_count": 40,
   "metadata": {},
   "outputs": [
    {
     "data": {
      "text/plain": [
       "(0.0030229321035389395, 0.6531782967535115)"
      ]
     },
     "execution_count": 40,
     "metadata": {},
     "output_type": "execute_result"
    }
   ],
   "source": [
    "term_frequencies = Counter(train_labels['term'])\n",
    "term_frequencies = pd.DataFrame(data=term_frequencies.most_common(num_terms), columns=['term', 'confidence'])\n",
    "term_frequencies.confidence = term_frequencies.confidence / len(train_sequences)\n",
    "term_frequencies.confidence.min(), term_frequencies.confidence.max()"
   ]
  },
  {
   "cell_type": "code",
   "execution_count": 41,
   "metadata": {},
   "outputs": [
    {
     "data": {
      "text/html": [
       "<div>\n",
       "<style scoped>\n",
       "    .dataframe tbody tr th:only-of-type {\n",
       "        vertical-align: middle;\n",
       "    }\n",
       "\n",
       "    .dataframe tbody tr th {\n",
       "        vertical-align: top;\n",
       "    }\n",
       "\n",
       "    .dataframe thead th {\n",
       "        text-align: right;\n",
       "    }\n",
       "</style>\n",
       "<table border=\"1\" class=\"dataframe\">\n",
       "  <thead>\n",
       "    <tr style=\"text-align: right;\">\n",
       "      <th></th>\n",
       "      <th>term</th>\n",
       "      <th>confidence</th>\n",
       "      <th>ids</th>\n",
       "    </tr>\n",
       "  </thead>\n",
       "  <tbody>\n",
       "    <tr>\n",
       "      <th>0</th>\n",
       "      <td>GO:0005575</td>\n",
       "      <td>0.653178</td>\n",
       "      <td>Q9CQV8</td>\n",
       "    </tr>\n",
       "    <tr>\n",
       "      <th>0</th>\n",
       "      <td>GO:0005575</td>\n",
       "      <td>0.653178</td>\n",
       "      <td>P62259</td>\n",
       "    </tr>\n",
       "    <tr>\n",
       "      <th>0</th>\n",
       "      <td>GO:0005575</td>\n",
       "      <td>0.653178</td>\n",
       "      <td>P68510</td>\n",
       "    </tr>\n",
       "    <tr>\n",
       "      <th>0</th>\n",
       "      <td>GO:0005575</td>\n",
       "      <td>0.653178</td>\n",
       "      <td>P61982</td>\n",
       "    </tr>\n",
       "    <tr>\n",
       "      <th>0</th>\n",
       "      <td>GO:0005575</td>\n",
       "      <td>0.653178</td>\n",
       "      <td>O70456</td>\n",
       "    </tr>\n",
       "  </tbody>\n",
       "</table>\n",
       "</div>"
      ],
      "text/plain": [
       "         term  confidence     ids\n",
       "0  GO:0005575    0.653178  Q9CQV8\n",
       "0  GO:0005575    0.653178  P62259\n",
       "0  GO:0005575    0.653178  P68510\n",
       "0  GO:0005575    0.653178  P61982\n",
       "0  GO:0005575    0.653178  O70456"
      ]
     },
     "execution_count": 41,
     "metadata": {},
     "output_type": "execute_result"
    }
   ],
   "source": [
    "term_frequencies['ids'] = [test_sequences['Protein ID'].values.tolist() for _ in range(len(term_frequencies))]\n",
    "naive_sub = term_frequencies.explode('ids')\n",
    "naive_sub.head()"
   ]
  },
  {
   "cell_type": "markdown",
   "metadata": {},
   "source": [
    "### Evaluation\n",
    "\n",
    "This competition focuses on predicting Gene Ontology (GO) terms for protein sequences in three different categories: Molecular Function (MF), Biological Process (BP), and Cellular Component (CC). Proteins in the test set, which were initially lacking experimentally determined functions, accumulate these annotations between the submission and evaluation phase. These proteins form three different test sets for evaluation, each corresponding to one of the GO categories. The evaluation metric is the maximum F-measure, a weighted average of precision and recall, calculated for each test set. The final performance is the arithmetic mean of the maximum F-measure of the three categories. Weights are based on the term's occurrence frequency in a large pool of proteins. The root terms have a weight of 0 as they appear in every protein's annotation, while terms deeper in the ontology are assigned larger weights as they appear less frequently and are harder to predict. The submission file should contain pairs of protein targets and GO terms along with their associated probability estimates. The evaluation is carried out on the combined set of no-knowledge and limited-knowledge protein targets."
   ]
  },
  {
   "cell_type": "markdown",
   "metadata": {},
   "source": [
    "Information accretion\n",
    "\n",
    "IA.txt contains the information accretion (weights) for each GO term. These weights are used to compute weighted precision and recall, as described in the Evaluation section. Here is a discussion post by host on IA.\n",
    "\n",
    "Information Accretion (IA) is a concept used in bioinformatics to quantify the amount of novel information a specific node or term brings into an ontology, assuming its parent terms are already annotated. In simpler terms, it's a way to assess how much \"new knowledge\" a term brings to the table if we already know about its parent terms. When dealing with a large ontology like protein functions, each term represents a certain aspect of a protein's function, and the 'parent' terms are more general functions that encompass the more specific 'child' terms. IA thus measures how much unique information is added by knowing about the specific child term, on top of what we already know from the parent terms.\n",
    "\n",
    "To calculate IA, we use the observed annotations of terms in a dataset. Specifically, the probability of a term is estimated based on how often it appears in the dataset, as is the probability of its parent terms. The IA for a given term is then computed as the log ratio of the probability of the parent terms to the probability of the term itself. A key point to remember is that if a term hasn't appeared in the training set, we add an artificial count of 1 to prevent a zero probability. Also, the IA of a term could be zero if every protein annotated with the parent terms also has the term annotated, implying no additional information is brought by this term. Lastly, it's worth noting that terms deeper in the ontology usually have a lower IA, as they are more specific and thus less frequently annotated in proteins."
   ]
  },
  {
   "cell_type": "code",
   "execution_count": null,
   "metadata": {},
   "outputs": [],
   "source": []
  }
 ],
 "metadata": {
  "kernelspec": {
   "display_name": "Python 3",
   "language": "python",
   "name": "python3"
  },
  "language_info": {
   "codemirror_mode": {
    "name": "ipython",
    "version": 3
   },
   "file_extension": ".py",
   "mimetype": "text/x-python",
   "name": "python",
   "nbconvert_exporter": "python",
   "pygments_lexer": "ipython3",
   "version": "3.11.1"
  },
  "orig_nbformat": 4
 },
 "nbformat": 4,
 "nbformat_minor": 2
}
