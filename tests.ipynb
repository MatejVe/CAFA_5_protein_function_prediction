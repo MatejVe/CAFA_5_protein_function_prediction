{
 "cells": [
  {
   "cell_type": "markdown",
   "metadata": {},
   "source": [
    "### Gene ontology"
   ]
  },
  {
   "cell_type": "code",
   "execution_count": 2,
   "metadata": {},
   "outputs": [],
   "source": [
    "import pandas as pd\n",
    "from pathlib import Path\n",
    "import random\n",
    "\n",
    "random.seed(42)\n",
    "path = Path(\"raw_data\")"
   ]
  },
  {
   "cell_type": "code",
   "execution_count": 3,
   "metadata": {},
   "outputs": [],
   "source": [
    "subontology_roots = {'BPO':'GO:0008150',\n",
    "                     'CCO':'GO:0005575',\n",
    "                     'MFO':'GO:0003674'}"
   ]
  },
  {
   "cell_type": "code",
   "execution_count": 4,
   "metadata": {},
   "outputs": [
    {
     "data": {
      "text/plain": [
       "(43248, 84805)"
      ]
     },
     "execution_count": 4,
     "metadata": {},
     "output_type": "execute_result"
    }
   ],
   "source": [
    "import networkx\n",
    "import obonet\n",
    "\n",
    "graph = obonet.read_obo(path/'Train/go-basic.obo')\n",
    "\n",
    "# Number of nodes & edges\n",
    "len(graph), graph.number_of_edges()"
   ]
  },
  {
   "cell_type": "code",
   "execution_count": 5,
   "metadata": {},
   "outputs": [],
   "source": [
    "# Create name mappings\n",
    "id_to_name = {id_: data.get('name') for id_, data in graph.nodes(data=True)}\n",
    "name_to_id = {data['name']: id_ for id_, data in graph.nodes(data=True) if 'name' in data}"
   ]
  },
  {
   "cell_type": "code",
   "execution_count": 6,
   "metadata": {},
   "outputs": [
    {
     "data": {
      "text/plain": [
       "('GO:1990820', 'response to mitotic DNA integrity checkpoint signaling')"
      ]
     },
     "execution_count": 6,
     "metadata": {},
     "output_type": "execute_result"
    }
   ],
   "source": [
    "# Randomly select a node\n",
    "random_node = random.choice(list(graph))\n",
    "random_node, id_to_name[random_node]"
   ]
  },
  {
   "cell_type": "code",
   "execution_count": 7,
   "metadata": {},
   "outputs": [
    {
     "name": "stdout",
     "output_type": "stream",
     "text": [
      "- response to mitotic DNA integrity checkpoint signaling -> is_a -> response to DNA integrity checkpoint signaling\n",
      "- response to mitotic DNA integrity checkpoint signaling -> is_a -> response to mitotic cell cycle checkpoint signaling\n"
     ]
    }
   ],
   "source": [
    "# Find edges to parent terms\n",
    "for child, parent, key in graph.out_edges(random_node, keys=True):\n",
    "    print(f'- {id_to_name[child]} -> {key} -> {id_to_name[parent]}')"
   ]
  },
  {
   "cell_type": "code",
   "execution_count": 9,
   "metadata": {},
   "outputs": [],
   "source": [
    "# Find edges to children terms\n",
    "node = name_to_id['pilus']\n",
    "for parent, child, key in graph.in_edges(random_node, keys=True):\n",
    "    print(f'- {id_to_name[child]} <- {key} <- {id_to_name[parent]}')"
   ]
  },
  {
   "cell_type": "code",
   "execution_count": 10,
   "metadata": {},
   "outputs": [
    {
     "data": {
      "text/plain": [
       "['biological_process',\n",
       " 'cellular process',\n",
       " 'cellular response to biotic stimulus',\n",
       " 'cellular response to endogenous stimulus',\n",
       " 'cellular response to stimulus',\n",
       " 'response to DNA integrity checkpoint signaling',\n",
       " 'response to biotic stimulus',\n",
       " 'response to cell cycle checkpoint signaling',\n",
       " 'response to endogenous stimulus',\n",
       " 'response to mitotic cell cycle checkpoint signaling',\n",
       " 'response to stimulus']"
      ]
     },
     "execution_count": 10,
     "metadata": {},
     "output_type": "execute_result"
    }
   ],
   "source": [
    "# Find all superterms\n",
    "sorted(id_to_name[superterm] for superterm in networkx.descendants(graph, random_node))"
   ]
  },
  {
   "cell_type": "code",
   "execution_count": 11,
   "metadata": {},
   "outputs": [
    {
     "data": {
      "text/plain": [
       "[]"
      ]
     },
     "execution_count": 11,
     "metadata": {},
     "output_type": "execute_result"
    }
   ],
   "source": [
    "# Find all subterms\n",
    "sorted(id_to_name[subterm] for subterm in networkx.ancestors(graph, random_node))"
   ]
  },
  {
   "cell_type": "code",
   "execution_count": 12,
   "metadata": {},
   "outputs": [
    {
     "name": "stdout",
     "output_type": "stream",
     "text": [
      "• response to mitotic DNA integrity checkpoint signaling ⟶ response to DNA integrity checkpoint signaling ⟶ response to cell cycle checkpoint signaling ⟶ cellular response to biotic stimulus ⟶ response to biotic stimulus ⟶ response to stimulus ⟶ biological_process\n",
      "• response to mitotic DNA integrity checkpoint signaling ⟶ response to DNA integrity checkpoint signaling ⟶ response to cell cycle checkpoint signaling ⟶ cellular response to biotic stimulus ⟶ cellular response to stimulus ⟶ cellular process ⟶ biological_process\n",
      "• response to mitotic DNA integrity checkpoint signaling ⟶ response to DNA integrity checkpoint signaling ⟶ response to cell cycle checkpoint signaling ⟶ cellular response to biotic stimulus ⟶ cellular response to stimulus ⟶ response to stimulus ⟶ biological_process\n",
      "• response to mitotic DNA integrity checkpoint signaling ⟶ response to DNA integrity checkpoint signaling ⟶ response to cell cycle checkpoint signaling ⟶ cellular response to endogenous stimulus ⟶ response to endogenous stimulus ⟶ response to stimulus ⟶ biological_process\n",
      "• response to mitotic DNA integrity checkpoint signaling ⟶ response to mitotic cell cycle checkpoint signaling ⟶ response to cell cycle checkpoint signaling ⟶ cellular response to biotic stimulus ⟶ response to biotic stimulus ⟶ response to stimulus ⟶ biological_process\n",
      "• response to mitotic DNA integrity checkpoint signaling ⟶ response to mitotic cell cycle checkpoint signaling ⟶ response to cell cycle checkpoint signaling ⟶ cellular response to biotic stimulus ⟶ cellular response to stimulus ⟶ cellular process ⟶ biological_process\n",
      "• response to mitotic DNA integrity checkpoint signaling ⟶ response to mitotic cell cycle checkpoint signaling ⟶ response to cell cycle checkpoint signaling ⟶ cellular response to biotic stimulus ⟶ cellular response to stimulus ⟶ response to stimulus ⟶ biological_process\n",
      "• response to mitotic DNA integrity checkpoint signaling ⟶ response to mitotic cell cycle checkpoint signaling ⟶ response to cell cycle checkpoint signaling ⟶ cellular response to endogenous stimulus ⟶ response to endogenous stimulus ⟶ response to stimulus ⟶ biological_process\n"
     ]
    }
   ],
   "source": [
    "# Find all paths to the root\n",
    "paths = networkx.all_simple_paths(\n",
    "    graph,\n",
    "    source=random_node,\n",
    "    target=name_to_id['biological_process']\n",
    ")\n",
    "for pth in paths:\n",
    "    print('•', ' ⟶ '.join(id_to_name[node] for node in pth))"
   ]
  },
  {
   "cell_type": "markdown",
   "metadata": {},
   "source": [
    "### Train set\n",
    "\n",
    "train_sequences.fasta contains the protein sequences for the training dataset."
   ]
  },
  {
   "cell_type": "code",
   "execution_count": null,
   "metadata": {},
   "outputs": [],
   "source": [
    "from Bio import SeqIO\n",
    "\n",
    "filename = \"raw_data/Train/train_sequences.fasta\"\n",
    "fasta_sequences = SeqIO.parse(open(filename),'fasta')\n",
    "\n",
    "for fasta in fasta_sequences:\n",
    "    name, sequence = fasta.id, str(fasta.seq)\n",
    "    print(name, sequence)"
   ]
  }
 ],
 "metadata": {
  "kernelspec": {
   "display_name": "Python 3",
   "language": "python",
   "name": "python3"
  },
  "language_info": {
   "codemirror_mode": {
    "name": "ipython",
    "version": 3
   },
   "file_extension": ".py",
   "mimetype": "text/x-python",
   "name": "python",
   "nbconvert_exporter": "python",
   "pygments_lexer": "ipython3",
   "version": "3.11.1"
  },
  "orig_nbformat": 4
 },
 "nbformat": 4,
 "nbformat_minor": 2
}
